{
 "cells": [
  {
   "cell_type": "code",
   "execution_count": 14,
   "metadata": {},
   "outputs": [],
   "source": [
    "#imports\n",
    "import numpy as np\n",
    "import math\n",
    "import matplotlib.pyplot as plt"
   ]
  },
  {
   "cell_type": "code",
   "execution_count": 15,
   "metadata": {},
   "outputs": [],
   "source": [
    "#this function updates the current distance travelled and time elapsed by the moving robot\n",
    "def distance_update(d_current, t_current):\n",
    "    d_total = d_current + d\n",
    "    t_total = t_current + t_interval\n",
    "    return (d_total, t_total) #returns the total travelled distance and the total elapsed time"
   ]
  },
  {
   "cell_type": "code",
   "execution_count": 16,
   "metadata": {},
   "outputs": [],
   "source": [
    "#this function updates the x and y position of the robot each time step based on the\n",
    "#distance travelled per time step, and the initial angle\n",
    "def update_pos(x,y):\n",
    "    delta_x = (d * (math.cos(math.radians(theta_init))))\n",
    "    delta_y = (d * (math.sin(math.radians(theta_init))))\n",
    "    #print(\"delta_x: \", delta_x)\n",
    "    return (x + delta_x, y + delta_y)"
   ]
  },
  {
   "cell_type": "code",
   "execution_count": 69,
   "metadata": {
    "tags": []
   },
   "outputs": [],
   "source": [
    "def create_noise(pos, error):\n",
    "    noise = []\n",
    "    for itr in pos:\n",
    "        noise.append((itr[0] + np.random.normal(0, error), itr[1] + np.random.normal(0, error)))\n",
    "    return noise"
   ]
  },
  {
   "cell_type": "code",
   "execution_count": 17,
   "metadata": {},
   "outputs": [],
   "source": [
    "#\"time interval\" between \"measurements\"\n",
    "t_interval = 0.1"
   ]
  },
  {
   "cell_type": "code",
   "execution_count": 18,
   "metadata": {},
   "outputs": [],
   "source": [
    "#initial position\n",
    "x_init = 0 #robot starts at origin\n",
    "y_init = 0\n",
    "\n",
    "#initialize the robot position\n",
    "x = x_init\n",
    "y = y_init\n",
    "\n",
    "#initial angle\n",
    "theta_init = 0"
   ]
  },
  {
   "cell_type": "code",
   "execution_count": 19,
   "metadata": {},
   "outputs": [],
   "source": [
    "#robot characteristics\n",
    "#robot wheelbase (metres between wheels)\n",
    "wheelbase = 0.25\n",
    "\n",
    "#ticks per meter\n",
    "tpm = 1000\n",
    "\n",
    "#robot velocity (m/s)\n",
    "v = 0.5\n",
    "\n",
    "#distance travelled per time interval =  v (m/s) * t_interval (s) = (m)\n",
    "d = v * t_interval"
   ]
  },
  {
   "cell_type": "code",
   "execution_count": 20,
   "metadata": {},
   "outputs": [],
   "source": [
    "#list for positions\n",
    "pos = []"
   ]
  },
  {
   "cell_type": "code",
   "execution_count": 21,
   "metadata": {},
   "outputs": [],
   "source": [
    "#reset time\n",
    "t = 0"
   ]
  },
  {
   "cell_type": "code",
   "execution_count": 22,
   "metadata": {
    "tags": []
   },
   "outputs": [
    {
     "output_type": "stream",
     "name": "stdout",
     "text": "([1, 0], [0, 1])\n"
    }
   ],
   "source": [
    "#kalman characteristics\n",
    "\n",
    "H_k = ([1, 0], [0, 1])\n",
    "print(H_k)"
   ]
  },
  {
   "cell_type": "code",
   "execution_count": 23,
   "metadata": {},
   "outputs": [],
   "source": [
    "#distance to travel (m)\n",
    "d_goal = 5\n",
    "d_trav = 0\n",
    "#reset time\n",
    "t = 0\n",
    "#reset pos\n",
    "x = x_init\n",
    "y = y_init\n",
    "pos = []"
   ]
  },
  {
   "cell_type": "code",
   "execution_count": 24,
   "metadata": {
    "tags": []
   },
   "outputs": [],
   "source": [
    "#print(d_trav, t, x, y)\n",
    "pos.append((x,y)) #append the starting position\n",
    "while d_trav < d_goal:\n",
    "    d_trav, t = distance_update(d_trav, t)\n",
    "    x,y = update_pos(x, y)\n",
    "    pos.append((x,y))\n",
    "    #print(\"d_trav: \", d_trav)\n",
    "    #print(\"x, y: \", x, y)\n",
    "    #print(d_trav, t, x, y)"
   ]
  },
  {
   "cell_type": "code",
   "execution_count": 25,
   "metadata": {
    "tags": []
   },
   "outputs": [],
   "source": [
    "#print(pos)"
   ]
  },
  {
   "cell_type": "code",
   "execution_count": 26,
   "metadata": {},
   "outputs": [],
   "source": [
    "L_pos = []\n",
    "itr = 0\n",
    "while itr < len(pos):\n",
    "    x_wheel_pos = (pos[itr][0] - (wheelbase/2)*math.cos(math.radians(90-theta_init)))\n",
    "    y_wheel_pos = (pos[itr][1] + (wheelbase/2)*math.sin(math.radians(90-theta_init)))\n",
    "    L_pos.append((x_wheel_pos,y_wheel_pos))\n",
    "    itr+=1"
   ]
  },
  {
   "cell_type": "code",
   "execution_count": 27,
   "metadata": {},
   "outputs": [],
   "source": [
    "R_pos = []\n",
    "itr = 0\n",
    "while itr < len(pos):\n",
    "    x_wheel_pos = (pos[itr][0] + (wheelbase/2)*math.cos(math.radians(90-theta_init)))\n",
    "    y_wheel_pos = (pos[itr][1] - (wheelbase/2)*math.sin(math.radians(90-theta_init)))\n",
    "    R_pos.append((x_wheel_pos,y_wheel_pos))\n",
    "    itr+=1"
   ]
  },
  {
   "cell_type": "code",
   "execution_count": 28,
   "metadata": {
    "tags": []
   },
   "outputs": [],
   "source": [
    "#print(L_pos)"
   ]
  },
  {
   "cell_type": "code",
   "execution_count": 29,
   "metadata": {
    "tags": []
   },
   "outputs": [],
   "source": [
    "#print(pos)"
   ]
  },
  {
   "cell_type": "code",
   "execution_count": 85,
   "metadata": {},
   "outputs": [
    {
     "output_type": "display_data",
     "data": {
      "text/plain": "<Figure size 432x288 with 1 Axes>",
      "image/svg+xml": "<?xml version=\"1.0\" encoding=\"utf-8\" standalone=\"no\"?>\r\n<!DOCTYPE svg PUBLIC \"-//W3C//DTD SVG 1.1//EN\"\r\n  \"http://www.w3.org/Graphics/SVG/1.1/DTD/svg11.dtd\">\r\n<!-- Created with matplotlib (https://matplotlib.org/) -->\r\n<svg height=\"248.518125pt\" version=\"1.1\" viewBox=\"0 0 370.942187 248.518125\" width=\"370.942187pt\" xmlns=\"http://www.w3.org/2000/svg\" xmlns:xlink=\"http://www.w3.org/1999/xlink\">\r\n <defs>\r\n  <style type=\"text/css\">\r\n*{stroke-linecap:butt;stroke-linejoin:round;}\r\n  </style>\r\n </defs>\r\n <g id=\"figure_1\">\r\n  <g id=\"patch_1\">\r\n   <path d=\"M 0 248.518125 \r\nL 370.942187 248.518125 \r\nL 370.942187 0 \r\nL 0 0 \r\nz\r\n\" style=\"fill:none;\"/>\r\n  </g>\r\n  <g id=\"axes_1\">\r\n   <g id=\"patch_2\">\r\n    <path d=\"M 28.942188 224.64 \r\nL 363.742188 224.64 \r\nL 363.742188 7.2 \r\nL 28.942188 7.2 \r\nz\r\n\" style=\"fill:#ffffff;\"/>\r\n   </g>\r\n   <g id=\"matplotlib.axis_1\">\r\n    <g id=\"xtick_1\">\r\n     <g id=\"line2d_1\">\r\n      <defs>\r\n       <path d=\"M 0 0 \r\nL 0 3.5 \r\n\" id=\"maa59f92b56\" style=\"stroke:#000000;stroke-width:0.8;\"/>\r\n      </defs>\r\n      <g>\r\n       <use style=\"stroke:#000000;stroke-width:0.8;\" x=\"62.422188\" xlink:href=\"#maa59f92b56\" y=\"224.64\"/>\r\n      </g>\r\n     </g>\r\n     <g id=\"text_1\">\r\n      <!-- −4 -->\r\n      <defs>\r\n       <path d=\"M 10.59375 35.5 \r\nL 73.1875 35.5 \r\nL 73.1875 27.203125 \r\nL 10.59375 27.203125 \r\nz\r\n\" id=\"DejaVuSans-8722\"/>\r\n       <path d=\"M 37.796875 64.3125 \r\nL 12.890625 25.390625 \r\nL 37.796875 25.390625 \r\nz\r\nM 35.203125 72.90625 \r\nL 47.609375 72.90625 \r\nL 47.609375 25.390625 \r\nL 58.015625 25.390625 \r\nL 58.015625 17.1875 \r\nL 47.609375 17.1875 \r\nL 47.609375 0 \r\nL 37.796875 0 \r\nL 37.796875 17.1875 \r\nL 4.890625 17.1875 \r\nL 4.890625 26.703125 \r\nz\r\n\" id=\"DejaVuSans-52\"/>\r\n      </defs>\r\n      <g transform=\"translate(55.051094 239.238437)scale(0.1 -0.1)\">\r\n       <use xlink:href=\"#DejaVuSans-8722\"/>\r\n       <use x=\"83.789062\" xlink:href=\"#DejaVuSans-52\"/>\r\n      </g>\r\n     </g>\r\n    </g>\r\n    <g id=\"xtick_2\">\r\n     <g id=\"line2d_2\">\r\n      <g>\r\n       <use style=\"stroke:#000000;stroke-width:0.8;\" x=\"129.382188\" xlink:href=\"#maa59f92b56\" y=\"224.64\"/>\r\n      </g>\r\n     </g>\r\n     <g id=\"text_2\">\r\n      <!-- −2 -->\r\n      <defs>\r\n       <path d=\"M 19.1875 8.296875 \r\nL 53.609375 8.296875 \r\nL 53.609375 0 \r\nL 7.328125 0 \r\nL 7.328125 8.296875 \r\nQ 12.9375 14.109375 22.625 23.890625 \r\nQ 32.328125 33.6875 34.8125 36.53125 \r\nQ 39.546875 41.84375 41.421875 45.53125 \r\nQ 43.3125 49.21875 43.3125 52.78125 \r\nQ 43.3125 58.59375 39.234375 62.25 \r\nQ 35.15625 65.921875 28.609375 65.921875 \r\nQ 23.96875 65.921875 18.8125 64.3125 \r\nQ 13.671875 62.703125 7.8125 59.421875 \r\nL 7.8125 69.390625 \r\nQ 13.765625 71.78125 18.9375 73 \r\nQ 24.125 74.21875 28.421875 74.21875 \r\nQ 39.75 74.21875 46.484375 68.546875 \r\nQ 53.21875 62.890625 53.21875 53.421875 \r\nQ 53.21875 48.921875 51.53125 44.890625 \r\nQ 49.859375 40.875 45.40625 35.40625 \r\nQ 44.1875 33.984375 37.640625 27.21875 \r\nQ 31.109375 20.453125 19.1875 8.296875 \r\nz\r\n\" id=\"DejaVuSans-50\"/>\r\n      </defs>\r\n      <g transform=\"translate(122.011094 239.238437)scale(0.1 -0.1)\">\r\n       <use xlink:href=\"#DejaVuSans-8722\"/>\r\n       <use x=\"83.789062\" xlink:href=\"#DejaVuSans-50\"/>\r\n      </g>\r\n     </g>\r\n    </g>\r\n    <g id=\"xtick_3\">\r\n     <g id=\"line2d_3\">\r\n      <g>\r\n       <use style=\"stroke:#000000;stroke-width:0.8;\" x=\"196.342188\" xlink:href=\"#maa59f92b56\" y=\"224.64\"/>\r\n      </g>\r\n     </g>\r\n     <g id=\"text_3\">\r\n      <!-- 0 -->\r\n      <defs>\r\n       <path d=\"M 31.78125 66.40625 \r\nQ 24.171875 66.40625 20.328125 58.90625 \r\nQ 16.5 51.421875 16.5 36.375 \r\nQ 16.5 21.390625 20.328125 13.890625 \r\nQ 24.171875 6.390625 31.78125 6.390625 \r\nQ 39.453125 6.390625 43.28125 13.890625 \r\nQ 47.125 21.390625 47.125 36.375 \r\nQ 47.125 51.421875 43.28125 58.90625 \r\nQ 39.453125 66.40625 31.78125 66.40625 \r\nz\r\nM 31.78125 74.21875 \r\nQ 44.046875 74.21875 50.515625 64.515625 \r\nQ 56.984375 54.828125 56.984375 36.375 \r\nQ 56.984375 17.96875 50.515625 8.265625 \r\nQ 44.046875 -1.421875 31.78125 -1.421875 \r\nQ 19.53125 -1.421875 13.0625 8.265625 \r\nQ 6.59375 17.96875 6.59375 36.375 \r\nQ 6.59375 54.828125 13.0625 64.515625 \r\nQ 19.53125 74.21875 31.78125 74.21875 \r\nz\r\n\" id=\"DejaVuSans-48\"/>\r\n      </defs>\r\n      <g transform=\"translate(193.160938 239.238437)scale(0.1 -0.1)\">\r\n       <use xlink:href=\"#DejaVuSans-48\"/>\r\n      </g>\r\n     </g>\r\n    </g>\r\n    <g id=\"xtick_4\">\r\n     <g id=\"line2d_4\">\r\n      <g>\r\n       <use style=\"stroke:#000000;stroke-width:0.8;\" x=\"263.302188\" xlink:href=\"#maa59f92b56\" y=\"224.64\"/>\r\n      </g>\r\n     </g>\r\n     <g id=\"text_4\">\r\n      <!-- 2 -->\r\n      <g transform=\"translate(260.120938 239.238437)scale(0.1 -0.1)\">\r\n       <use xlink:href=\"#DejaVuSans-50\"/>\r\n      </g>\r\n     </g>\r\n    </g>\r\n    <g id=\"xtick_5\">\r\n     <g id=\"line2d_5\">\r\n      <g>\r\n       <use style=\"stroke:#000000;stroke-width:0.8;\" x=\"330.262188\" xlink:href=\"#maa59f92b56\" y=\"224.64\"/>\r\n      </g>\r\n     </g>\r\n     <g id=\"text_5\">\r\n      <!-- 4 -->\r\n      <g transform=\"translate(327.080938 239.238437)scale(0.1 -0.1)\">\r\n       <use xlink:href=\"#DejaVuSans-52\"/>\r\n      </g>\r\n     </g>\r\n    </g>\r\n   </g>\r\n   <g id=\"matplotlib.axis_2\">\r\n    <g id=\"ytick_1\">\r\n     <g id=\"line2d_6\">\r\n      <defs>\r\n       <path d=\"M 0 0 \r\nL -3.5 0 \r\n\" id=\"m906ae700dd\" style=\"stroke:#000000;stroke-width:0.8;\"/>\r\n      </defs>\r\n      <g>\r\n       <use style=\"stroke:#000000;stroke-width:0.8;\" x=\"28.942188\" xlink:href=\"#m906ae700dd\" y=\"202.896\"/>\r\n      </g>\r\n     </g>\r\n     <g id=\"text_6\">\r\n      <!-- −4 -->\r\n      <g transform=\"translate(7.2 206.695219)scale(0.1 -0.1)\">\r\n       <use xlink:href=\"#DejaVuSans-8722\"/>\r\n       <use x=\"83.789062\" xlink:href=\"#DejaVuSans-52\"/>\r\n      </g>\r\n     </g>\r\n    </g>\r\n    <g id=\"ytick_2\">\r\n     <g id=\"line2d_7\">\r\n      <g>\r\n       <use style=\"stroke:#000000;stroke-width:0.8;\" x=\"28.942188\" xlink:href=\"#m906ae700dd\" y=\"159.408\"/>\r\n      </g>\r\n     </g>\r\n     <g id=\"text_7\">\r\n      <!-- −2 -->\r\n      <g transform=\"translate(7.2 163.207219)scale(0.1 -0.1)\">\r\n       <use xlink:href=\"#DejaVuSans-8722\"/>\r\n       <use x=\"83.789062\" xlink:href=\"#DejaVuSans-50\"/>\r\n      </g>\r\n     </g>\r\n    </g>\r\n    <g id=\"ytick_3\">\r\n     <g id=\"line2d_8\">\r\n      <g>\r\n       <use style=\"stroke:#000000;stroke-width:0.8;\" x=\"28.942188\" xlink:href=\"#m906ae700dd\" y=\"115.92\"/>\r\n      </g>\r\n     </g>\r\n     <g id=\"text_8\">\r\n      <!-- 0 -->\r\n      <g transform=\"translate(15.579688 119.719219)scale(0.1 -0.1)\">\r\n       <use xlink:href=\"#DejaVuSans-48\"/>\r\n      </g>\r\n     </g>\r\n    </g>\r\n    <g id=\"ytick_4\">\r\n     <g id=\"line2d_9\">\r\n      <g>\r\n       <use style=\"stroke:#000000;stroke-width:0.8;\" x=\"28.942188\" xlink:href=\"#m906ae700dd\" y=\"72.432\"/>\r\n      </g>\r\n     </g>\r\n     <g id=\"text_9\">\r\n      <!-- 2 -->\r\n      <g transform=\"translate(15.579688 76.231219)scale(0.1 -0.1)\">\r\n       <use xlink:href=\"#DejaVuSans-50\"/>\r\n      </g>\r\n     </g>\r\n    </g>\r\n    <g id=\"ytick_5\">\r\n     <g id=\"line2d_10\">\r\n      <g>\r\n       <use style=\"stroke:#000000;stroke-width:0.8;\" x=\"28.942188\" xlink:href=\"#m906ae700dd\" y=\"28.944\"/>\r\n      </g>\r\n     </g>\r\n     <g id=\"text_10\">\r\n      <!-- 4 -->\r\n      <g transform=\"translate(15.579688 32.743219)scale(0.1 -0.1)\">\r\n       <use xlink:href=\"#DejaVuSans-52\"/>\r\n      </g>\r\n     </g>\r\n    </g>\r\n   </g>\r\n   <g id=\"line2d_11\">\r\n    <path clip-path=\"url(#p1aa4a72a59)\" d=\"M 196.342188 115.92 \r\nL 198.016188 115.92 \r\nL 199.690188 115.92 \r\nL 201.364188 115.92 \r\nL 203.038188 115.92 \r\nL 204.712188 115.92 \r\nL 206.386188 115.92 \r\nL 208.060188 115.92 \r\nL 209.734188 115.92 \r\nL 211.408188 115.92 \r\nL 213.082188 115.92 \r\nL 214.756188 115.92 \r\nL 216.430188 115.92 \r\nL 218.104188 115.92 \r\nL 219.778188 115.92 \r\nL 221.452188 115.92 \r\nL 223.126188 115.92 \r\nL 224.800188 115.92 \r\nL 226.474188 115.92 \r\nL 228.148188 115.92 \r\nL 229.822188 115.92 \r\nL 231.496188 115.92 \r\nL 233.170188 115.92 \r\nL 234.844188 115.92 \r\nL 236.518188 115.92 \r\nL 238.192188 115.92 \r\nL 239.866188 115.92 \r\nL 241.540188 115.92 \r\nL 243.214188 115.92 \r\nL 244.888188 115.92 \r\nL 246.562188 115.92 \r\nL 248.236188 115.92 \r\nL 249.910188 115.92 \r\nL 251.584188 115.92 \r\nL 253.258188 115.92 \r\nL 254.932188 115.92 \r\nL 256.606188 115.92 \r\nL 258.280188 115.92 \r\nL 259.954188 115.92 \r\nL 261.628188 115.92 \r\nL 263.302188 115.92 \r\nL 264.976188 115.92 \r\nL 266.650188 115.92 \r\nL 268.324188 115.92 \r\nL 269.998188 115.92 \r\nL 271.672188 115.92 \r\nL 273.346188 115.92 \r\nL 275.020188 115.92 \r\nL 276.694187 115.92 \r\nL 278.368187 115.92 \r\nL 280.042188 115.92 \r\nL 281.716187 115.92 \r\nL 283.390188 115.92 \r\nL 285.064188 115.92 \r\nL 286.738187 115.92 \r\nL 288.412187 115.92 \r\nL 290.086187 115.92 \r\nL 291.760187 115.92 \r\nL 293.434187 115.92 \r\nL 295.108187 115.92 \r\nL 296.782187 115.92 \r\nL 298.456187 115.92 \r\nL 300.130187 115.92 \r\nL 301.804187 115.92 \r\nL 303.478187 115.92 \r\nL 305.152187 115.92 \r\nL 306.826187 115.92 \r\nL 308.500187 115.92 \r\nL 310.174187 115.92 \r\nL 311.848187 115.92 \r\nL 313.522187 115.92 \r\nL 315.196187 115.92 \r\nL 316.870187 115.92 \r\nL 318.544187 115.92 \r\nL 320.218187 115.92 \r\nL 321.892187 115.92 \r\nL 323.566187 115.92 \r\nL 325.240187 115.92 \r\nL 326.914187 115.92 \r\nL 328.588187 115.92 \r\nL 330.262187 115.92 \r\nL 331.936187 115.92 \r\nL 333.610187 115.92 \r\nL 335.284187 115.92 \r\nL 336.958187 115.92 \r\nL 338.632187 115.92 \r\nL 340.306187 115.92 \r\nL 341.980187 115.92 \r\nL 343.654187 115.92 \r\nL 345.328187 115.92 \r\nL 347.002187 115.92 \r\nL 348.676187 115.92 \r\nL 350.350187 115.92 \r\nL 352.024187 115.92 \r\nL 353.698187 115.92 \r\nL 355.372187 115.92 \r\nL 357.046187 115.92 \r\nL 358.720187 115.92 \r\nL 360.394187 115.92 \r\nL 362.068187 115.92 \r\nL 363.742187 115.92 \r\nL 365.416187 115.92 \r\n\" style=\"fill:none;stroke:#ff0000;stroke-linecap:square;stroke-width:1.5;\"/>\r\n   </g>\r\n   <g id=\"line2d_12\">\r\n    <path clip-path=\"url(#p1aa4a72a59)\" d=\"M 196.342188 113.202 \r\nL 198.016188 113.202 \r\nL 199.690188 113.202 \r\nL 201.364188 113.202 \r\nL 203.038188 113.202 \r\nL 204.712188 113.202 \r\nL 206.386188 113.202 \r\nL 208.060188 113.202 \r\nL 209.734188 113.202 \r\nL 211.408188 113.202 \r\nL 213.082188 113.202 \r\nL 214.756188 113.202 \r\nL 216.430188 113.202 \r\nL 218.104188 113.202 \r\nL 219.778188 113.202 \r\nL 221.452188 113.202 \r\nL 223.126188 113.202 \r\nL 224.800188 113.202 \r\nL 226.474188 113.202 \r\nL 228.148188 113.202 \r\nL 229.822188 113.202 \r\nL 231.496188 113.202 \r\nL 233.170188 113.202 \r\nL 234.844188 113.202 \r\nL 236.518188 113.202 \r\nL 238.192188 113.202 \r\nL 239.866188 113.202 \r\nL 241.540188 113.202 \r\nL 243.214188 113.202 \r\nL 244.888188 113.202 \r\nL 246.562188 113.202 \r\nL 248.236188 113.202 \r\nL 249.910188 113.202 \r\nL 251.584188 113.202 \r\nL 253.258188 113.202 \r\nL 254.932188 113.202 \r\nL 256.606188 113.202 \r\nL 258.280188 113.202 \r\nL 259.954188 113.202 \r\nL 261.628188 113.202 \r\nL 263.302188 113.202 \r\nL 264.976188 113.202 \r\nL 266.650188 113.202 \r\nL 268.324188 113.202 \r\nL 269.998188 113.202 \r\nL 271.672188 113.202 \r\nL 273.346188 113.202 \r\nL 275.020188 113.202 \r\nL 276.694187 113.202 \r\nL 278.368187 113.202 \r\nL 280.042188 113.202 \r\nL 281.716187 113.202 \r\nL 283.390188 113.202 \r\nL 285.064188 113.202 \r\nL 286.738187 113.202 \r\nL 288.412187 113.202 \r\nL 290.086187 113.202 \r\nL 291.760187 113.202 \r\nL 293.434187 113.202 \r\nL 295.108187 113.202 \r\nL 296.782187 113.202 \r\nL 298.456187 113.202 \r\nL 300.130187 113.202 \r\nL 301.804187 113.202 \r\nL 303.478187 113.202 \r\nL 305.152187 113.202 \r\nL 306.826187 113.202 \r\nL 308.500187 113.202 \r\nL 310.174187 113.202 \r\nL 311.848187 113.202 \r\nL 313.522187 113.202 \r\nL 315.196187 113.202 \r\nL 316.870187 113.202 \r\nL 318.544187 113.202 \r\nL 320.218187 113.202 \r\nL 321.892187 113.202 \r\nL 323.566187 113.202 \r\nL 325.240187 113.202 \r\nL 326.914187 113.202 \r\nL 328.588187 113.202 \r\nL 330.262187 113.202 \r\nL 331.936187 113.202 \r\nL 333.610187 113.202 \r\nL 335.284187 113.202 \r\nL 336.958187 113.202 \r\nL 338.632187 113.202 \r\nL 340.306187 113.202 \r\nL 341.980187 113.202 \r\nL 343.654187 113.202 \r\nL 345.328187 113.202 \r\nL 347.002187 113.202 \r\nL 348.676187 113.202 \r\nL 350.350187 113.202 \r\nL 352.024187 113.202 \r\nL 353.698187 113.202 \r\nL 355.372187 113.202 \r\nL 357.046187 113.202 \r\nL 358.720187 113.202 \r\nL 360.394187 113.202 \r\nL 362.068187 113.202 \r\nL 363.742187 113.202 \r\nL 365.416187 113.202 \r\n\" style=\"fill:none;stroke:#000000;stroke-dasharray:1.5,2.475;stroke-dashoffset:0;stroke-width:1.5;\"/>\r\n   </g>\r\n   <g id=\"line2d_13\">\r\n    <path clip-path=\"url(#p1aa4a72a59)\" d=\"M 196.342188 118.638 \r\nL 198.016188 118.638 \r\nL 199.690188 118.638 \r\nL 201.364188 118.638 \r\nL 203.038188 118.638 \r\nL 204.712188 118.638 \r\nL 206.386188 118.638 \r\nL 208.060188 118.638 \r\nL 209.734188 118.638 \r\nL 211.408188 118.638 \r\nL 213.082188 118.638 \r\nL 214.756188 118.638 \r\nL 216.430188 118.638 \r\nL 218.104188 118.638 \r\nL 219.778188 118.638 \r\nL 221.452188 118.638 \r\nL 223.126188 118.638 \r\nL 224.800188 118.638 \r\nL 226.474188 118.638 \r\nL 228.148188 118.638 \r\nL 229.822188 118.638 \r\nL 231.496188 118.638 \r\nL 233.170188 118.638 \r\nL 234.844188 118.638 \r\nL 236.518188 118.638 \r\nL 238.192188 118.638 \r\nL 239.866188 118.638 \r\nL 241.540188 118.638 \r\nL 243.214188 118.638 \r\nL 244.888188 118.638 \r\nL 246.562188 118.638 \r\nL 248.236188 118.638 \r\nL 249.910188 118.638 \r\nL 251.584188 118.638 \r\nL 253.258188 118.638 \r\nL 254.932188 118.638 \r\nL 256.606188 118.638 \r\nL 258.280188 118.638 \r\nL 259.954188 118.638 \r\nL 261.628188 118.638 \r\nL 263.302188 118.638 \r\nL 264.976188 118.638 \r\nL 266.650188 118.638 \r\nL 268.324188 118.638 \r\nL 269.998188 118.638 \r\nL 271.672188 118.638 \r\nL 273.346188 118.638 \r\nL 275.020188 118.638 \r\nL 276.694187 118.638 \r\nL 278.368187 118.638 \r\nL 280.042188 118.638 \r\nL 281.716187 118.638 \r\nL 283.390188 118.638 \r\nL 285.064188 118.638 \r\nL 286.738187 118.638 \r\nL 288.412187 118.638 \r\nL 290.086187 118.638 \r\nL 291.760187 118.638 \r\nL 293.434187 118.638 \r\nL 295.108187 118.638 \r\nL 296.782187 118.638 \r\nL 298.456187 118.638 \r\nL 300.130187 118.638 \r\nL 301.804187 118.638 \r\nL 303.478187 118.638 \r\nL 305.152187 118.638 \r\nL 306.826187 118.638 \r\nL 308.500187 118.638 \r\nL 310.174187 118.638 \r\nL 311.848187 118.638 \r\nL 313.522187 118.638 \r\nL 315.196187 118.638 \r\nL 316.870187 118.638 \r\nL 318.544187 118.638 \r\nL 320.218187 118.638 \r\nL 321.892187 118.638 \r\nL 323.566187 118.638 \r\nL 325.240187 118.638 \r\nL 326.914187 118.638 \r\nL 328.588187 118.638 \r\nL 330.262187 118.638 \r\nL 331.936187 118.638 \r\nL 333.610187 118.638 \r\nL 335.284187 118.638 \r\nL 336.958187 118.638 \r\nL 338.632187 118.638 \r\nL 340.306187 118.638 \r\nL 341.980187 118.638 \r\nL 343.654187 118.638 \r\nL 345.328187 118.638 \r\nL 347.002187 118.638 \r\nL 348.676187 118.638 \r\nL 350.350187 118.638 \r\nL 352.024187 118.638 \r\nL 353.698187 118.638 \r\nL 355.372187 118.638 \r\nL 357.046187 118.638 \r\nL 358.720187 118.638 \r\nL 360.394187 118.638 \r\nL 362.068187 118.638 \r\nL 363.742187 118.638 \r\nL 365.416187 118.638 \r\n\" style=\"fill:none;stroke:#000000;stroke-dasharray:1.5,2.475;stroke-dashoffset:0;stroke-width:1.5;\"/>\r\n   </g>\r\n   <g id=\"patch_3\">\r\n    <path d=\"M 28.942188 224.64 \r\nL 28.942188 7.2 \r\n\" style=\"fill:none;stroke:#000000;stroke-linecap:square;stroke-linejoin:miter;stroke-width:0.8;\"/>\r\n   </g>\r\n   <g id=\"patch_4\">\r\n    <path d=\"M 363.742188 224.64 \r\nL 363.742188 7.2 \r\n\" style=\"fill:none;stroke:#000000;stroke-linecap:square;stroke-linejoin:miter;stroke-width:0.8;\"/>\r\n   </g>\r\n   <g id=\"patch_5\">\r\n    <path d=\"M 28.942187 224.64 \r\nL 363.742188 224.64 \r\n\" style=\"fill:none;stroke:#000000;stroke-linecap:square;stroke-linejoin:miter;stroke-width:0.8;\"/>\r\n   </g>\r\n   <g id=\"patch_6\">\r\n    <path d=\"M 28.942187 7.2 \r\nL 363.742188 7.2 \r\n\" style=\"fill:none;stroke:#000000;stroke-linecap:square;stroke-linejoin:miter;stroke-width:0.8;\"/>\r\n   </g>\r\n   <g id=\"legend_1\">\r\n    <g id=\"patch_7\">\r\n     <path d=\"M 255.5625 59.234375 \r\nL 356.742188 59.234375 \r\nQ 358.742188 59.234375 358.742188 57.234375 \r\nL 358.742188 14.2 \r\nQ 358.742188 12.2 356.742188 12.2 \r\nL 255.5625 12.2 \r\nQ 253.5625 12.2 253.5625 14.2 \r\nL 253.5625 57.234375 \r\nQ 253.5625 59.234375 255.5625 59.234375 \r\nz\r\n\" style=\"fill:#ffffff;opacity:0.8;stroke:#cccccc;stroke-linejoin:miter;\"/>\r\n    </g>\r\n    <g id=\"line2d_14\">\r\n     <path d=\"M 257.5625 20.298437 \r\nL 277.5625 20.298437 \r\n\" style=\"fill:none;stroke:#ff0000;stroke-linecap:square;stroke-width:1.5;\"/>\r\n    </g>\r\n    <g id=\"line2d_15\"/>\r\n    <g id=\"text_11\">\r\n     <!-- robot position -->\r\n     <defs>\r\n      <path d=\"M 41.109375 46.296875 \r\nQ 39.59375 47.171875 37.8125 47.578125 \r\nQ 36.03125 48 33.890625 48 \r\nQ 26.265625 48 22.1875 43.046875 \r\nQ 18.109375 38.09375 18.109375 28.8125 \r\nL 18.109375 0 \r\nL 9.078125 0 \r\nL 9.078125 54.6875 \r\nL 18.109375 54.6875 \r\nL 18.109375 46.1875 \r\nQ 20.953125 51.171875 25.484375 53.578125 \r\nQ 30.03125 56 36.53125 56 \r\nQ 37.453125 56 38.578125 55.875 \r\nQ 39.703125 55.765625 41.0625 55.515625 \r\nz\r\n\" id=\"DejaVuSans-114\"/>\r\n      <path d=\"M 30.609375 48.390625 \r\nQ 23.390625 48.390625 19.1875 42.75 \r\nQ 14.984375 37.109375 14.984375 27.296875 \r\nQ 14.984375 17.484375 19.15625 11.84375 \r\nQ 23.34375 6.203125 30.609375 6.203125 \r\nQ 37.796875 6.203125 41.984375 11.859375 \r\nQ 46.1875 17.53125 46.1875 27.296875 \r\nQ 46.1875 37.015625 41.984375 42.703125 \r\nQ 37.796875 48.390625 30.609375 48.390625 \r\nz\r\nM 30.609375 56 \r\nQ 42.328125 56 49.015625 48.375 \r\nQ 55.71875 40.765625 55.71875 27.296875 \r\nQ 55.71875 13.875 49.015625 6.21875 \r\nQ 42.328125 -1.421875 30.609375 -1.421875 \r\nQ 18.84375 -1.421875 12.171875 6.21875 \r\nQ 5.515625 13.875 5.515625 27.296875 \r\nQ 5.515625 40.765625 12.171875 48.375 \r\nQ 18.84375 56 30.609375 56 \r\nz\r\n\" id=\"DejaVuSans-111\"/>\r\n      <path d=\"M 48.6875 27.296875 \r\nQ 48.6875 37.203125 44.609375 42.84375 \r\nQ 40.53125 48.484375 33.40625 48.484375 \r\nQ 26.265625 48.484375 22.1875 42.84375 \r\nQ 18.109375 37.203125 18.109375 27.296875 \r\nQ 18.109375 17.390625 22.1875 11.75 \r\nQ 26.265625 6.109375 33.40625 6.109375 \r\nQ 40.53125 6.109375 44.609375 11.75 \r\nQ 48.6875 17.390625 48.6875 27.296875 \r\nz\r\nM 18.109375 46.390625 \r\nQ 20.953125 51.265625 25.265625 53.625 \r\nQ 29.59375 56 35.59375 56 \r\nQ 45.5625 56 51.78125 48.09375 \r\nQ 58.015625 40.1875 58.015625 27.296875 \r\nQ 58.015625 14.40625 51.78125 6.484375 \r\nQ 45.5625 -1.421875 35.59375 -1.421875 \r\nQ 29.59375 -1.421875 25.265625 0.953125 \r\nQ 20.953125 3.328125 18.109375 8.203125 \r\nL 18.109375 0 \r\nL 9.078125 0 \r\nL 9.078125 75.984375 \r\nL 18.109375 75.984375 \r\nz\r\n\" id=\"DejaVuSans-98\"/>\r\n      <path d=\"M 18.3125 70.21875 \r\nL 18.3125 54.6875 \r\nL 36.8125 54.6875 \r\nL 36.8125 47.703125 \r\nL 18.3125 47.703125 \r\nL 18.3125 18.015625 \r\nQ 18.3125 11.328125 20.140625 9.421875 \r\nQ 21.96875 7.515625 27.59375 7.515625 \r\nL 36.8125 7.515625 \r\nL 36.8125 0 \r\nL 27.59375 0 \r\nQ 17.1875 0 13.234375 3.875 \r\nQ 9.28125 7.765625 9.28125 18.015625 \r\nL 9.28125 47.703125 \r\nL 2.6875 47.703125 \r\nL 2.6875 54.6875 \r\nL 9.28125 54.6875 \r\nL 9.28125 70.21875 \r\nz\r\n\" id=\"DejaVuSans-116\"/>\r\n      <path id=\"DejaVuSans-32\"/>\r\n      <path d=\"M 18.109375 8.203125 \r\nL 18.109375 -20.796875 \r\nL 9.078125 -20.796875 \r\nL 9.078125 54.6875 \r\nL 18.109375 54.6875 \r\nL 18.109375 46.390625 \r\nQ 20.953125 51.265625 25.265625 53.625 \r\nQ 29.59375 56 35.59375 56 \r\nQ 45.5625 56 51.78125 48.09375 \r\nQ 58.015625 40.1875 58.015625 27.296875 \r\nQ 58.015625 14.40625 51.78125 6.484375 \r\nQ 45.5625 -1.421875 35.59375 -1.421875 \r\nQ 29.59375 -1.421875 25.265625 0.953125 \r\nQ 20.953125 3.328125 18.109375 8.203125 \r\nz\r\nM 48.6875 27.296875 \r\nQ 48.6875 37.203125 44.609375 42.84375 \r\nQ 40.53125 48.484375 33.40625 48.484375 \r\nQ 26.265625 48.484375 22.1875 42.84375 \r\nQ 18.109375 37.203125 18.109375 27.296875 \r\nQ 18.109375 17.390625 22.1875 11.75 \r\nQ 26.265625 6.109375 33.40625 6.109375 \r\nQ 40.53125 6.109375 44.609375 11.75 \r\nQ 48.6875 17.390625 48.6875 27.296875 \r\nz\r\n\" id=\"DejaVuSans-112\"/>\r\n      <path d=\"M 44.28125 53.078125 \r\nL 44.28125 44.578125 \r\nQ 40.484375 46.53125 36.375 47.5 \r\nQ 32.28125 48.484375 27.875 48.484375 \r\nQ 21.1875 48.484375 17.84375 46.4375 \r\nQ 14.5 44.390625 14.5 40.28125 \r\nQ 14.5 37.15625 16.890625 35.375 \r\nQ 19.28125 33.59375 26.515625 31.984375 \r\nL 29.59375 31.296875 \r\nQ 39.15625 29.25 43.1875 25.515625 \r\nQ 47.21875 21.78125 47.21875 15.09375 \r\nQ 47.21875 7.46875 41.1875 3.015625 \r\nQ 35.15625 -1.421875 24.609375 -1.421875 \r\nQ 20.21875 -1.421875 15.453125 -0.5625 \r\nQ 10.6875 0.296875 5.421875 2 \r\nL 5.421875 11.28125 \r\nQ 10.40625 8.6875 15.234375 7.390625 \r\nQ 20.0625 6.109375 24.8125 6.109375 \r\nQ 31.15625 6.109375 34.5625 8.28125 \r\nQ 37.984375 10.453125 37.984375 14.40625 \r\nQ 37.984375 18.0625 35.515625 20.015625 \r\nQ 33.0625 21.96875 24.703125 23.78125 \r\nL 21.578125 24.515625 \r\nQ 13.234375 26.265625 9.515625 29.90625 \r\nQ 5.8125 33.546875 5.8125 39.890625 \r\nQ 5.8125 47.609375 11.28125 51.796875 \r\nQ 16.75 56 26.8125 56 \r\nQ 31.78125 56 36.171875 55.265625 \r\nQ 40.578125 54.546875 44.28125 53.078125 \r\nz\r\n\" id=\"DejaVuSans-115\"/>\r\n      <path d=\"M 9.421875 54.6875 \r\nL 18.40625 54.6875 \r\nL 18.40625 0 \r\nL 9.421875 0 \r\nz\r\nM 9.421875 75.984375 \r\nL 18.40625 75.984375 \r\nL 18.40625 64.59375 \r\nL 9.421875 64.59375 \r\nz\r\n\" id=\"DejaVuSans-105\"/>\r\n      <path d=\"M 54.890625 33.015625 \r\nL 54.890625 0 \r\nL 45.90625 0 \r\nL 45.90625 32.71875 \r\nQ 45.90625 40.484375 42.875 44.328125 \r\nQ 39.84375 48.1875 33.796875 48.1875 \r\nQ 26.515625 48.1875 22.3125 43.546875 \r\nQ 18.109375 38.921875 18.109375 30.90625 \r\nL 18.109375 0 \r\nL 9.078125 0 \r\nL 9.078125 54.6875 \r\nL 18.109375 54.6875 \r\nL 18.109375 46.1875 \r\nQ 21.34375 51.125 25.703125 53.5625 \r\nQ 30.078125 56 35.796875 56 \r\nQ 45.21875 56 50.046875 50.171875 \r\nQ 54.890625 44.34375 54.890625 33.015625 \r\nz\r\n\" id=\"DejaVuSans-110\"/>\r\n     </defs>\r\n     <g transform=\"translate(285.5625 23.798437)scale(0.1 -0.1)\">\r\n      <use xlink:href=\"#DejaVuSans-114\"/>\r\n      <use x=\"38.863281\" xlink:href=\"#DejaVuSans-111\"/>\r\n      <use x=\"100.044922\" xlink:href=\"#DejaVuSans-98\"/>\r\n      <use x=\"163.521484\" xlink:href=\"#DejaVuSans-111\"/>\r\n      <use x=\"224.703125\" xlink:href=\"#DejaVuSans-116\"/>\r\n      <use x=\"263.912109\" xlink:href=\"#DejaVuSans-32\"/>\r\n      <use x=\"295.699219\" xlink:href=\"#DejaVuSans-112\"/>\r\n      <use x=\"359.175781\" xlink:href=\"#DejaVuSans-111\"/>\r\n      <use x=\"420.357422\" xlink:href=\"#DejaVuSans-115\"/>\r\n      <use x=\"472.457031\" xlink:href=\"#DejaVuSans-105\"/>\r\n      <use x=\"500.240234\" xlink:href=\"#DejaVuSans-116\"/>\r\n      <use x=\"539.449219\" xlink:href=\"#DejaVuSans-105\"/>\r\n      <use x=\"567.232422\" xlink:href=\"#DejaVuSans-111\"/>\r\n      <use x=\"628.414062\" xlink:href=\"#DejaVuSans-110\"/>\r\n     </g>\r\n    </g>\r\n    <g id=\"line2d_16\">\r\n     <path d=\"M 257.5625 34.976562 \r\nL 277.5625 34.976562 \r\n\" style=\"fill:none;stroke:#000000;stroke-dasharray:1.5,2.475;stroke-dashoffset:0;stroke-width:1.5;\"/>\r\n    </g>\r\n    <g id=\"line2d_17\"/>\r\n    <g id=\"text_12\">\r\n     <!-- left wheel -->\r\n     <defs>\r\n      <path d=\"M 9.421875 75.984375 \r\nL 18.40625 75.984375 \r\nL 18.40625 0 \r\nL 9.421875 0 \r\nz\r\n\" id=\"DejaVuSans-108\"/>\r\n      <path d=\"M 56.203125 29.59375 \r\nL 56.203125 25.203125 \r\nL 14.890625 25.203125 \r\nQ 15.484375 15.921875 20.484375 11.0625 \r\nQ 25.484375 6.203125 34.421875 6.203125 \r\nQ 39.59375 6.203125 44.453125 7.46875 \r\nQ 49.3125 8.734375 54.109375 11.28125 \r\nL 54.109375 2.78125 \r\nQ 49.265625 0.734375 44.1875 -0.34375 \r\nQ 39.109375 -1.421875 33.890625 -1.421875 \r\nQ 20.796875 -1.421875 13.15625 6.1875 \r\nQ 5.515625 13.8125 5.515625 26.8125 \r\nQ 5.515625 40.234375 12.765625 48.109375 \r\nQ 20.015625 56 32.328125 56 \r\nQ 43.359375 56 49.78125 48.890625 \r\nQ 56.203125 41.796875 56.203125 29.59375 \r\nz\r\nM 47.21875 32.234375 \r\nQ 47.125 39.59375 43.09375 43.984375 \r\nQ 39.0625 48.390625 32.421875 48.390625 \r\nQ 24.90625 48.390625 20.390625 44.140625 \r\nQ 15.875 39.890625 15.1875 32.171875 \r\nz\r\n\" id=\"DejaVuSans-101\"/>\r\n      <path d=\"M 37.109375 75.984375 \r\nL 37.109375 68.5 \r\nL 28.515625 68.5 \r\nQ 23.6875 68.5 21.796875 66.546875 \r\nQ 19.921875 64.59375 19.921875 59.515625 \r\nL 19.921875 54.6875 \r\nL 34.71875 54.6875 \r\nL 34.71875 47.703125 \r\nL 19.921875 47.703125 \r\nL 19.921875 0 \r\nL 10.890625 0 \r\nL 10.890625 47.703125 \r\nL 2.296875 47.703125 \r\nL 2.296875 54.6875 \r\nL 10.890625 54.6875 \r\nL 10.890625 58.5 \r\nQ 10.890625 67.625 15.140625 71.796875 \r\nQ 19.390625 75.984375 28.609375 75.984375 \r\nz\r\n\" id=\"DejaVuSans-102\"/>\r\n      <path d=\"M 4.203125 54.6875 \r\nL 13.1875 54.6875 \r\nL 24.421875 12.015625 \r\nL 35.59375 54.6875 \r\nL 46.1875 54.6875 \r\nL 57.421875 12.015625 \r\nL 68.609375 54.6875 \r\nL 77.59375 54.6875 \r\nL 63.28125 0 \r\nL 52.6875 0 \r\nL 40.921875 44.828125 \r\nL 29.109375 0 \r\nL 18.5 0 \r\nz\r\n\" id=\"DejaVuSans-119\"/>\r\n      <path d=\"M 54.890625 33.015625 \r\nL 54.890625 0 \r\nL 45.90625 0 \r\nL 45.90625 32.71875 \r\nQ 45.90625 40.484375 42.875 44.328125 \r\nQ 39.84375 48.1875 33.796875 48.1875 \r\nQ 26.515625 48.1875 22.3125 43.546875 \r\nQ 18.109375 38.921875 18.109375 30.90625 \r\nL 18.109375 0 \r\nL 9.078125 0 \r\nL 9.078125 75.984375 \r\nL 18.109375 75.984375 \r\nL 18.109375 46.1875 \r\nQ 21.34375 51.125 25.703125 53.5625 \r\nQ 30.078125 56 35.796875 56 \r\nQ 45.21875 56 50.046875 50.171875 \r\nQ 54.890625 44.34375 54.890625 33.015625 \r\nz\r\n\" id=\"DejaVuSans-104\"/>\r\n     </defs>\r\n     <g transform=\"translate(285.5625 38.476562)scale(0.1 -0.1)\">\r\n      <use xlink:href=\"#DejaVuSans-108\"/>\r\n      <use x=\"27.783203\" xlink:href=\"#DejaVuSans-101\"/>\r\n      <use x=\"89.306641\" xlink:href=\"#DejaVuSans-102\"/>\r\n      <use x=\"122.761719\" xlink:href=\"#DejaVuSans-116\"/>\r\n      <use x=\"161.970703\" xlink:href=\"#DejaVuSans-32\"/>\r\n      <use x=\"193.757812\" xlink:href=\"#DejaVuSans-119\"/>\r\n      <use x=\"275.544922\" xlink:href=\"#DejaVuSans-104\"/>\r\n      <use x=\"338.923828\" xlink:href=\"#DejaVuSans-101\"/>\r\n      <use x=\"400.447266\" xlink:href=\"#DejaVuSans-101\"/>\r\n      <use x=\"461.970703\" xlink:href=\"#DejaVuSans-108\"/>\r\n     </g>\r\n    </g>\r\n    <g id=\"line2d_18\">\r\n     <path d=\"M 257.5625 49.654687 \r\nL 277.5625 49.654687 \r\n\" style=\"fill:none;stroke:#000000;stroke-dasharray:1.5,2.475;stroke-dashoffset:0;stroke-width:1.5;\"/>\r\n    </g>\r\n    <g id=\"line2d_19\"/>\r\n    <g id=\"text_13\">\r\n     <!-- right wheel -->\r\n     <defs>\r\n      <path d=\"M 45.40625 27.984375 \r\nQ 45.40625 37.75 41.375 43.109375 \r\nQ 37.359375 48.484375 30.078125 48.484375 \r\nQ 22.859375 48.484375 18.828125 43.109375 \r\nQ 14.796875 37.75 14.796875 27.984375 \r\nQ 14.796875 18.265625 18.828125 12.890625 \r\nQ 22.859375 7.515625 30.078125 7.515625 \r\nQ 37.359375 7.515625 41.375 12.890625 \r\nQ 45.40625 18.265625 45.40625 27.984375 \r\nz\r\nM 54.390625 6.78125 \r\nQ 54.390625 -7.171875 48.1875 -13.984375 \r\nQ 42 -20.796875 29.203125 -20.796875 \r\nQ 24.46875 -20.796875 20.265625 -20.09375 \r\nQ 16.0625 -19.390625 12.109375 -17.921875 \r\nL 12.109375 -9.1875 \r\nQ 16.0625 -11.328125 19.921875 -12.34375 \r\nQ 23.78125 -13.375 27.78125 -13.375 \r\nQ 36.625 -13.375 41.015625 -8.765625 \r\nQ 45.40625 -4.15625 45.40625 5.171875 \r\nL 45.40625 9.625 \r\nQ 42.625 4.78125 38.28125 2.390625 \r\nQ 33.9375 0 27.875 0 \r\nQ 17.828125 0 11.671875 7.65625 \r\nQ 5.515625 15.328125 5.515625 27.984375 \r\nQ 5.515625 40.671875 11.671875 48.328125 \r\nQ 17.828125 56 27.875 56 \r\nQ 33.9375 56 38.28125 53.609375 \r\nQ 42.625 51.21875 45.40625 46.390625 \r\nL 45.40625 54.6875 \r\nL 54.390625 54.6875 \r\nz\r\n\" id=\"DejaVuSans-103\"/>\r\n     </defs>\r\n     <g transform=\"translate(285.5625 53.154687)scale(0.1 -0.1)\">\r\n      <use xlink:href=\"#DejaVuSans-114\"/>\r\n      <use x=\"41.113281\" xlink:href=\"#DejaVuSans-105\"/>\r\n      <use x=\"68.896484\" xlink:href=\"#DejaVuSans-103\"/>\r\n      <use x=\"132.373047\" xlink:href=\"#DejaVuSans-104\"/>\r\n      <use x=\"195.751953\" xlink:href=\"#DejaVuSans-116\"/>\r\n      <use x=\"234.960938\" xlink:href=\"#DejaVuSans-32\"/>\r\n      <use x=\"266.748047\" xlink:href=\"#DejaVuSans-119\"/>\r\n      <use x=\"348.535156\" xlink:href=\"#DejaVuSans-104\"/>\r\n      <use x=\"411.914062\" xlink:href=\"#DejaVuSans-101\"/>\r\n      <use x=\"473.4375\" xlink:href=\"#DejaVuSans-101\"/>\r\n      <use x=\"534.960938\" xlink:href=\"#DejaVuSans-108\"/>\r\n     </g>\r\n    </g>\r\n   </g>\r\n  </g>\r\n </g>\r\n <defs>\r\n  <clipPath id=\"p1aa4a72a59\">\r\n   <rect height=\"217.44\" width=\"334.8\" x=\"28.942188\" y=\"7.2\"/>\r\n  </clipPath>\r\n </defs>\r\n</svg>\r\n",
      "image/png": "[encoded data removed]"
     },
     "metadata": {
      "needs_background": "light"
     }
    },
    {
     "output_type": "display_data",
     "data": {
      "text/plain": "<Figure size 432x288 with 0 Axes>"
     },
     "metadata": {}
    }
   ],
   "source": [
    "plt.figure()\n",
    "plt.xlim(-5,5)\n",
    "plt.ylim(-5,5)\n",
    "plt.plot(*zip(*pos), label = 'robot position', color = 'r')\n",
    "x_L,y_L = zip(*L_pos)\n",
    "plt.plot(x_L,y_L, label = 'left wheel', color = 'k', linestyle = 'dotted')\n",
    "x_R,y_R = zip(*R_pos)\n",
    "plt.plot(x_R,y_R, label = 'right wheel', color = 'k', linestyle = 'dotted')\n",
    "plt.legend()\n",
    "plt.show()\n",
    "plt.clf()"
   ]
  },
  {
   "cell_type": "code",
   "execution_count": 87,
   "metadata": {
    "tags": []
   },
   "outputs": [
    {
     "output_type": "stream",
     "name": "stdout",
     "text": "[(-0.06531753120434043, 0.010702950899567331), (0.06979977178558938, -0.00988801476956326), (0.04174395377636944, 0.020844888006673605), (0.1284713301491517, 0.0014885175830929571), (0.17202572553922862, -0.006517917140483483), (0.2645514173338585, -0.011851907100063348), (0.4092911610997244, -0.002181655013284643), (0.29399368290262573, 0.0038109614166164036), (0.4083919467180132, -0.01397493498811956), (0.5182509594945158, 0.050142790029559264), (0.519632029672874, 0.07658801933096238), (0.6065165971844857, -0.01720134861850711), (0.6165949756925015, 0.039367284799260896), (0.6605116527264394, 0.011930419364959921), (0.65680266697549, 0.04226501395126463), (0.7100213174116139, 0.046928343399264855), (0.8383389993553116, -0.016925500760654504), (0.9048316826529307, 0.013368238804383162), (0.8804612738598915, -0.006357311805935469), (0.9936445528226795, -0.11923799442332012), (1.052044789320697, -0.022884724975108336), (1.1245139480846282, 0.06387069807639588), (1.042055550995765, 0.016467695555904566), (1.2202045855427874, 0.018787631760645906), (1.2487289119620242, 0.0027601244835321714), (1.2200301500962152, 0.011272377825259293), (1.2993565252357462, 0.0037689198914450323), (1.357712260512748, 0.019242387321175735), (1.3113041050723782, -0.005815842477710097), (1.346102987347229, 0.035184010452920605), (1.5420765359469402, -0.055982948391331666), (1.5844290389974083, 0.00020544073581400682), (1.578050336681419, 0.02240316703243433), (1.6711240310706659, -0.019982608308779726), (1.7743435281269135, -0.045870848658796315), (1.8176822830030468, -0.05470331643424358), (1.7855349809953478, 0.10300823228244038), (1.9335951065573478, 0.018329059678926184), (1.8901491363383536, 0.012963726208254395), (1.9666306529321398, -0.018099772570804622), (1.9202747891805925, -0.0006223459306970133), (2.08904721346007, -0.027547894898692655), (2.1912309028166206, 0.04193845835357063), (2.1874024047589757, -0.02473399081717037), (2.194577953394849, 0.015016748936689526), (2.344289663885242, -0.07111164632899429), (2.3830499344198084, -0.04422598272206866), (2.2453355431787547, 0.0266451123428602), (2.4216465439371384, -0.016569233021020424), (2.4702747352620316, -0.04305668474270879), (2.525403123303683, 0.059659061191149644), (2.585221449649236, 0.0014944138252770398), (2.6379448172557765, -0.05848112358835329), (2.622095841161444, -0.09850118677711754), (2.6983334470634794, -0.044043338044460804), (2.770939635830887, 0.07144799872543228), (2.7574575796909353, 0.08049980778014079), (2.8025138111213255, -0.0744767974820019), (2.865600367915501, -0.02148054153613026), (3.0022332919641794, -0.0684400723792516), (2.950555827949467, 0.016595345199816283), (2.9627589085365273, -0.04042631267033206), (3.124031743625174, -0.09181138602181291), (3.119378593442572, 0.056865669834296), (3.1963198534876245, -0.043499593603093856), (3.256927798052435, 0.0012906192615932323), (3.3323540041135216, -0.02976637421700274), (3.309060956445354, 0.0024332104486453187), (3.479418779306809, 0.05749536772734484), (3.443372912006378, -0.014962119428573043), (3.4893830107651462, -0.06973251729519214), (3.563645873200347, 0.034556172704099934), (3.683601680403527, 0.034686545614657796), (3.6287210129543457, 0.061089718952693044), (3.7010972775836963, -0.05472064046929499), (3.727410489240333, 0.050565009349208115), (3.768322405164876, -0.04599814158831386), (3.9273595452385264, 0.01526775712586871), (3.816560392446582, 0.025740783406381824), (3.9551250270546507, 0.04048683919968349), (4.005033920266558, 0.038915835809743074), (3.977504499851865, -0.036582500058873056), (4.122672204218752, 0.00670388615297548), (4.15986750723487, 0.009488718014318201), (4.188630922664938, 0.048186203674404016), (4.238782926811619, -0.06865057403023614), (4.2950775873390095, -0.06905328577053298), (4.280460819193181, 0.05154626260327508), (4.383087113778876, 0.028747387198313698), (4.4867587010050185, 0.021920318727869873), (4.491540891077581, -0.028003901395141247), (4.5444793906004355, 0.01851022998656376), (4.558012698654582, 0.03746209069260586), (4.559027465450644, 0.0075990192501979295), (4.753071997787493, 0.0336284930852591), (4.76812176815796, 0.028875867862997458), (4.843931683498176, 0.02066335516642179), (4.8582221896469475, -0.05729655690425242), (4.964210027905383, 0.02663871873523639), (4.999450941985033, -0.0042283540138892935), (4.868068781047406, -0.016683902049533284), (5.137194383960271, -0.013543093519525803)]\n"
    },
    {
     "output_type": "display_data",
     "data": {
      "text/plain": "<Figure size 432x288 with 1 Axes>",
      "image/svg+xml": "<?xml version=\"1.0\" encoding=\"utf-8\" standalone=\"no\"?>\r\n<!DOCTYPE svg PUBLIC \"-//W3C//DTD SVG 1.1//EN\"\r\n  \"http://www.w3.org/Graphics/SVG/1.1/DTD/svg11.dtd\">\r\n<!-- Created with matplotlib (https://matplotlib.org/) -->\r\n<svg height=\"248.518125pt\" version=\"1.1\" viewBox=\"0 0 370.942187 248.518125\" width=\"370.942187pt\" xmlns=\"http://www.w3.org/2000/svg\" xmlns:xlink=\"http://www.w3.org/1999/xlink\">\r\n <defs>\r\n  <style type=\"text/css\">\r\n*{stroke-linecap:butt;stroke-linejoin:round;}\r\n  </style>\r\n </defs>\r\n <g id=\"figure_1\">\r\n  <g id=\"patch_1\">\r\n   <path d=\"M 0 248.518125 \r\nL 370.942187 248.518125 \r\nL 370.942187 0 \r\nL 0 0 \r\nz\r\n\" style=\"fill:none;\"/>\r\n  </g>\r\n  <g id=\"axes_1\">\r\n   <g id=\"patch_2\">\r\n    <path d=\"M 28.942188 224.64 \r\nL 363.742188 224.64 \r\nL 363.742188 7.2 \r\nL 28.942188 7.2 \r\nz\r\n\" style=\"fill:#ffffff;\"/>\r\n   </g>\r\n   <g id=\"matplotlib.axis_1\">\r\n    <g id=\"xtick_1\">\r\n     <g id=\"line2d_1\">\r\n      <defs>\r\n       <path d=\"M 0 0 \r\nL 0 3.5 \r\n\" id=\"m8864ae996e\" style=\"stroke:#000000;stroke-width:0.8;\"/>\r\n      </defs>\r\n      <g>\r\n       <use style=\"stroke:#000000;stroke-width:0.8;\" x=\"62.422188\" xlink:href=\"#m8864ae996e\" y=\"224.64\"/>\r\n      </g>\r\n     </g>\r\n     <g id=\"text_1\">\r\n      <!-- −4 -->\r\n      <defs>\r\n       <path d=\"M 10.59375 35.5 \r\nL 73.1875 35.5 \r\nL 73.1875 27.203125 \r\nL 10.59375 27.203125 \r\nz\r\n\" id=\"DejaVuSans-8722\"/>\r\n       <path d=\"M 37.796875 64.3125 \r\nL 12.890625 25.390625 \r\nL 37.796875 25.390625 \r\nz\r\nM 35.203125 72.90625 \r\nL 47.609375 72.90625 \r\nL 47.609375 25.390625 \r\nL 58.015625 25.390625 \r\nL 58.015625 17.1875 \r\nL 47.609375 17.1875 \r\nL 47.609375 0 \r\nL 37.796875 0 \r\nL 37.796875 17.1875 \r\nL 4.890625 17.1875 \r\nL 4.890625 26.703125 \r\nz\r\n\" id=\"DejaVuSans-52\"/>\r\n      </defs>\r\n      <g transform=\"translate(55.051094 239.238437)scale(0.1 -0.1)\">\r\n       <use xlink:href=\"#DejaVuSans-8722\"/>\r\n       <use x=\"83.789062\" xlink:href=\"#DejaVuSans-52\"/>\r\n      </g>\r\n     </g>\r\n    </g>\r\n    <g id=\"xtick_2\">\r\n     <g id=\"line2d_2\">\r\n      <g>\r\n       <use style=\"stroke:#000000;stroke-width:0.8;\" x=\"129.382188\" xlink:href=\"#m8864ae996e\" y=\"224.64\"/>\r\n      </g>\r\n     </g>\r\n     <g id=\"text_2\">\r\n      <!-- −2 -->\r\n      <defs>\r\n       <path d=\"M 19.1875 8.296875 \r\nL 53.609375 8.296875 \r\nL 53.609375 0 \r\nL 7.328125 0 \r\nL 7.328125 8.296875 \r\nQ 12.9375 14.109375 22.625 23.890625 \r\nQ 32.328125 33.6875 34.8125 36.53125 \r\nQ 39.546875 41.84375 41.421875 45.53125 \r\nQ 43.3125 49.21875 43.3125 52.78125 \r\nQ 43.3125 58.59375 39.234375 62.25 \r\nQ 35.15625 65.921875 28.609375 65.921875 \r\nQ 23.96875 65.921875 18.8125 64.3125 \r\nQ 13.671875 62.703125 7.8125 59.421875 \r\nL 7.8125 69.390625 \r\nQ 13.765625 71.78125 18.9375 73 \r\nQ 24.125 74.21875 28.421875 74.21875 \r\nQ 39.75 74.21875 46.484375 68.546875 \r\nQ 53.21875 62.890625 53.21875 53.421875 \r\nQ 53.21875 48.921875 51.53125 44.890625 \r\nQ 49.859375 40.875 45.40625 35.40625 \r\nQ 44.1875 33.984375 37.640625 27.21875 \r\nQ 31.109375 20.453125 19.1875 8.296875 \r\nz\r\n\" id=\"DejaVuSans-50\"/>\r\n      </defs>\r\n      <g transform=\"translate(122.011094 239.238437)scale(0.1 -0.1)\">\r\n       <use xlink:href=\"#DejaVuSans-8722\"/>\r\n       <use x=\"83.789062\" xlink:href=\"#DejaVuSans-50\"/>\r\n      </g>\r\n     </g>\r\n    </g>\r\n    <g id=\"xtick_3\">\r\n     <g id=\"line2d_3\">\r\n      <g>\r\n       <use style=\"stroke:#000000;stroke-width:0.8;\" x=\"196.342188\" xlink:href=\"#m8864ae996e\" y=\"224.64\"/>\r\n      </g>\r\n     </g>\r\n     <g id=\"text_3\">\r\n      <!-- 0 -->\r\n      <defs>\r\n       <path d=\"M 31.78125 66.40625 \r\nQ 24.171875 66.40625 20.328125 58.90625 \r\nQ 16.5 51.421875 16.5 36.375 \r\nQ 16.5 21.390625 20.328125 13.890625 \r\nQ 24.171875 6.390625 31.78125 6.390625 \r\nQ 39.453125 6.390625 43.28125 13.890625 \r\nQ 47.125 21.390625 47.125 36.375 \r\nQ 47.125 51.421875 43.28125 58.90625 \r\nQ 39.453125 66.40625 31.78125 66.40625 \r\nz\r\nM 31.78125 74.21875 \r\nQ 44.046875 74.21875 50.515625 64.515625 \r\nQ 56.984375 54.828125 56.984375 36.375 \r\nQ 56.984375 17.96875 50.515625 8.265625 \r\nQ 44.046875 -1.421875 31.78125 -1.421875 \r\nQ 19.53125 -1.421875 13.0625 8.265625 \r\nQ 6.59375 17.96875 6.59375 36.375 \r\nQ 6.59375 54.828125 13.0625 64.515625 \r\nQ 19.53125 74.21875 31.78125 74.21875 \r\nz\r\n\" id=\"DejaVuSans-48\"/>\r\n      </defs>\r\n      <g transform=\"translate(193.160938 239.238437)scale(0.1 -0.1)\">\r\n       <use xlink:href=\"#DejaVuSans-48\"/>\r\n      </g>\r\n     </g>\r\n    </g>\r\n    <g id=\"xtick_4\">\r\n     <g id=\"line2d_4\">\r\n      <g>\r\n       <use style=\"stroke:#000000;stroke-width:0.8;\" x=\"263.302188\" xlink:href=\"#m8864ae996e\" y=\"224.64\"/>\r\n      </g>\r\n     </g>\r\n     <g id=\"text_4\">\r\n      <!-- 2 -->\r\n      <g transform=\"translate(260.120938 239.238437)scale(0.1 -0.1)\">\r\n       <use xlink:href=\"#DejaVuSans-50\"/>\r\n      </g>\r\n     </g>\r\n    </g>\r\n    <g id=\"xtick_5\">\r\n     <g id=\"line2d_5\">\r\n      <g>\r\n       <use style=\"stroke:#000000;stroke-width:0.8;\" x=\"330.262188\" xlink:href=\"#m8864ae996e\" y=\"224.64\"/>\r\n      </g>\r\n     </g>\r\n     <g id=\"text_5\">\r\n      <!-- 4 -->\r\n      <g transform=\"translate(327.080938 239.238437)scale(0.1 -0.1)\">\r\n       <use xlink:href=\"#DejaVuSans-52\"/>\r\n      </g>\r\n     </g>\r\n    </g>\r\n   </g>\r\n   <g id=\"matplotlib.axis_2\">\r\n    <g id=\"ytick_1\">\r\n     <g id=\"line2d_6\">\r\n      <defs>\r\n       <path d=\"M 0 0 \r\nL -3.5 0 \r\n\" id=\"m4cb01bc844\" style=\"stroke:#000000;stroke-width:0.8;\"/>\r\n      </defs>\r\n      <g>\r\n       <use style=\"stroke:#000000;stroke-width:0.8;\" x=\"28.942188\" xlink:href=\"#m4cb01bc844\" y=\"202.896\"/>\r\n      </g>\r\n     </g>\r\n     <g id=\"text_6\">\r\n      <!-- −4 -->\r\n      <g transform=\"translate(7.2 206.695219)scale(0.1 -0.1)\">\r\n       <use xlink:href=\"#DejaVuSans-8722\"/>\r\n       <use x=\"83.789062\" xlink:href=\"#DejaVuSans-52\"/>\r\n      </g>\r\n     </g>\r\n    </g>\r\n    <g id=\"ytick_2\">\r\n     <g id=\"line2d_7\">\r\n      <g>\r\n       <use style=\"stroke:#000000;stroke-width:0.8;\" x=\"28.942188\" xlink:href=\"#m4cb01bc844\" y=\"159.408\"/>\r\n      </g>\r\n     </g>\r\n     <g id=\"text_7\">\r\n      <!-- −2 -->\r\n      <g transform=\"translate(7.2 163.207219)scale(0.1 -0.1)\">\r\n       <use xlink:href=\"#DejaVuSans-8722\"/>\r\n       <use x=\"83.789062\" xlink:href=\"#DejaVuSans-50\"/>\r\n      </g>\r\n     </g>\r\n    </g>\r\n    <g id=\"ytick_3\">\r\n     <g id=\"line2d_8\">\r\n      <g>\r\n       <use style=\"stroke:#000000;stroke-width:0.8;\" x=\"28.942188\" xlink:href=\"#m4cb01bc844\" y=\"115.92\"/>\r\n      </g>\r\n     </g>\r\n     <g id=\"text_8\">\r\n      <!-- 0 -->\r\n      <g transform=\"translate(15.579688 119.719219)scale(0.1 -0.1)\">\r\n       <use xlink:href=\"#DejaVuSans-48\"/>\r\n      </g>\r\n     </g>\r\n    </g>\r\n    <g id=\"ytick_4\">\r\n     <g id=\"line2d_9\">\r\n      <g>\r\n       <use style=\"stroke:#000000;stroke-width:0.8;\" x=\"28.942188\" xlink:href=\"#m4cb01bc844\" y=\"72.432\"/>\r\n      </g>\r\n     </g>\r\n     <g id=\"text_9\">\r\n      <!-- 2 -->\r\n      <g transform=\"translate(15.579688 76.231219)scale(0.1 -0.1)\">\r\n       <use xlink:href=\"#DejaVuSans-50\"/>\r\n      </g>\r\n     </g>\r\n    </g>\r\n    <g id=\"ytick_5\">\r\n     <g id=\"line2d_10\">\r\n      <g>\r\n       <use style=\"stroke:#000000;stroke-width:0.8;\" x=\"28.942188\" xlink:href=\"#m4cb01bc844\" y=\"28.944\"/>\r\n      </g>\r\n     </g>\r\n     <g id=\"text_10\">\r\n      <!-- 4 -->\r\n      <g transform=\"translate(15.579688 32.743219)scale(0.1 -0.1)\">\r\n       <use xlink:href=\"#DejaVuSans-52\"/>\r\n      </g>\r\n     </g>\r\n    </g>\r\n   </g>\r\n   <g id=\"line2d_11\">\r\n    <path clip-path=\"url(#p65bc3b5478)\" d=\"M 194.155357 115.687275 \r\nL 198.679084 116.135005 \r\nL 197.739775 115.466749 \r\nL 200.643408 115.887634 \r\nL 202.101609 116.061726 \r\nL 205.199369 116.177708 \r\nL 210.045256 115.967438 \r\nL 206.185096 115.837134 \r\nL 210.01515 116.223871 \r\nL 213.69323 114.829695 \r\nL 213.739468 114.25467 \r\nL 216.648363 116.294026 \r\nL 216.985787 115.063998 \r\nL 218.456118 115.660585 \r\nL 218.331941 115.00099 \r\nL 220.113701 114.89959 \r\nL 224.409777 116.288028 \r\nL 226.635952 115.629321 \r\nL 225.820031 116.058233 \r\nL 229.609407 118.512711 \r\nL 231.564647 116.417605 \r\nL 233.990914 114.531196 \r\nL 231.230207 115.561926 \r\nL 237.194637 115.511482 \r\nL 238.149631 115.859984 \r\nL 237.188797 115.674893 \r\nL 239.844644 115.838049 \r\nL 241.798394 115.501594 \r\nL 240.244649 116.04646 \r\nL 241.409716 115.154959 \r\nL 247.97091 117.137293 \r\nL 249.388872 115.915533 \r\nL 249.175313 115.432866 \r\nL 252.29142 116.354502 \r\nL 255.747209 116.917416 \r\nL 257.19819 117.109469 \r\nL 256.121899 113.680189 \r\nL 261.078952 115.521453 \r\nL 259.624381 115.638117 \r\nL 262.184982 116.313561 \r\nL 260.632987 115.933532 \r\nL 266.283488 116.519001 \r\nL 269.704598 115.00809 \r\nL 269.57642 116.457816 \r\nL 269.816657 115.593476 \r\nL 274.829005 117.466252 \r\nL 276.126699 116.88165 \r\nL 271.516021 115.340629 \r\nL 277.418914 116.280281 \r\nL 279.046986 116.856225 \r\nL 280.892684 114.622773 \r\nL 282.895402 115.887505 \r\nL 284.66058 117.191614 \r\nL 284.129956 118.06181 \r\nL 286.682391 116.877678 \r\nL 289.113247 114.366435 \r\nL 288.661867 114.169612 \r\nL 290.17035 117.539423 \r\nL 292.282488 116.387073 \r\nL 296.856958 117.408161 \r\nL 295.126797 115.559151 \r\nL 295.535356 116.79903 \r\nL 300.93477 117.916347 \r\nL 300.778983 114.683513 \r\nL 303.354976 116.865855 \r\nL 305.38413 115.891937 \r\nL 307.9094 116.56724 \r\nL 307.129548 115.867092 \r\nL 312.833128 114.669821 \r\nL 311.626313 116.245336 \r\nL 313.166731 117.436264 \r\nL 315.653051 115.168611 \r\nL 319.669172 115.165776 \r\nL 317.831767 114.591665 \r\nL 320.254924 117.109846 \r\nL 321.135891 114.820514 \r\nL 322.505622 116.920184 \r\nL 327.830185 115.588018 \r\nL 324.120629 115.360292 \r\nL 328.759773 115.039654 \r\nL 330.430723 115.073814 \r\nL 329.509038 116.71545 \r\nL 334.369253 115.774231 \r\nL 335.614552 115.713677 \r\nL 336.577551 114.872239 \r\nL 338.25664 117.412738 \r\nL 340.141385 117.421495 \r\nL 339.652016 114.799178 \r\nL 343.087944 115.294917 \r\nL 346.558869 115.443365 \r\nL 346.718977 116.528917 \r\nL 348.491357 115.517514 \r\nL 348.944453 115.105424 \r\nL 348.978427 115.754767 \r\nL 355.475038 115.188782 \r\nL 355.978904 115.292123 \r\nL 358.51702 115.470696 \r\nL 358.995466 117.165856 \r\nL 362.543939 115.340768 \r\nL 363.723805 116.011941 \r\nL 359.32513 116.282775 \r\nL 368.335455 116.214481 \r\n\" style=\"fill:none;stroke:#1f77b4;stroke-linecap:square;stroke-width:1.5;\"/>\r\n   </g>\r\n   <g id=\"patch_3\">\r\n    <path d=\"M 28.942188 224.64 \r\nL 28.942188 7.2 \r\n\" style=\"fill:none;stroke:#000000;stroke-linecap:square;stroke-linejoin:miter;stroke-width:0.8;\"/>\r\n   </g>\r\n   <g id=\"patch_4\">\r\n    <path d=\"M 363.742188 224.64 \r\nL 363.742188 7.2 \r\n\" style=\"fill:none;stroke:#000000;stroke-linecap:square;stroke-linejoin:miter;stroke-width:0.8;\"/>\r\n   </g>\r\n   <g id=\"patch_5\">\r\n    <path d=\"M 28.942187 224.64 \r\nL 363.742188 224.64 \r\n\" style=\"fill:none;stroke:#000000;stroke-linecap:square;stroke-linejoin:miter;stroke-width:0.8;\"/>\r\n   </g>\r\n   <g id=\"patch_6\">\r\n    <path d=\"M 28.942187 7.2 \r\nL 363.742188 7.2 \r\n\" style=\"fill:none;stroke:#000000;stroke-linecap:square;stroke-linejoin:miter;stroke-width:0.8;\"/>\r\n   </g>\r\n  </g>\r\n </g>\r\n <defs>\r\n  <clipPath id=\"p65bc3b5478\">\r\n   <rect height=\"217.44\" width=\"334.8\" x=\"28.942188\" y=\"7.2\"/>\r\n  </clipPath>\r\n </defs>\r\n</svg>\r\n",
      "image/png": "[encoded data removed]"
     },
     "metadata": {
      "needs_background": "light"
     }
    },
    {
     "output_type": "display_data",
     "data": {
      "text/plain": "<Figure size 432x288 with 0 Axes>"
     },
     "metadata": {}
    }
   ],
   "source": [
    "plt.figure()\n",
    "plt.xlim(-5,5)\n",
    "plt.ylim(-5,5)\n",
    "noisy = create_noise(pos, 0.05)\n",
    "print(noisy)\n",
    "x,y = zip(*noisy)\n",
    "plt.plot(x,y)\n",
    "plt.show()\n",
    "plt.clf()"
   ]
  }
 ],
 "metadata": {
  "kernelspec": {
   "display_name": "Python 3",
   "language": "python",
   "name": "python3"
  },
  "language_info": {
   "codemirror_mode": {
    "name": "ipython",
    "version": 3
   },
   "file_extension": ".py",
   "mimetype": "text/x-python",
   "name": "python",
   "nbconvert_exporter": "python",
   "pygments_lexer": "ipython3",
   "version": "3.8.3-final"
  }
 },
 "nbformat": 4,
 "nbformat_minor": 4
}