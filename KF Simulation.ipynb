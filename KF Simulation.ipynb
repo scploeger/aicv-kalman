{
 "cells": [
  {
   "cell_type": "code",
   "execution_count": 1,
   "metadata": {},
   "outputs": [],
   "source": [
    "import numpy as np\n",
    "import math\n",
    "import matplotlib.pyplot as plt"
   ]
  },
  {
   "cell_type": "code",
   "execution_count": 2,
   "metadata": {},
   "outputs": [],
   "source": [
    "#initial position\n",
    "x_init = 0\n",
    "y_init = 0\n",
    "\n",
    "x = x_init\n",
    "y = y_init\n",
    "\n",
    "#initial angle\n",
    "theta_init = 45"
   ]
  },
  {
   "cell_type": "code",
   "execution_count": 3,
   "metadata": {},
   "outputs": [],
   "source": [
    "#robot characteristics (metres between wheels)\n",
    "wheelbase = 0.25"
   ]
  },
  {
   "cell_type": "code",
   "execution_count": 4,
   "metadata": {},
   "outputs": [],
   "source": [
    "#list for positions\n",
    "pos = []"
   ]
  },
  {
   "cell_type": "code",
   "execution_count": 5,
   "metadata": {},
   "outputs": [],
   "source": [
    "#reset time\n",
    "t = 0"
   ]
  },
  {
   "cell_type": "code",
   "execution_count": 6,
   "metadata": {},
   "outputs": [],
   "source": [
    "#ticks per meter\n",
    "tpm = 1000"
   ]
  },
  {
   "cell_type": "code",
   "execution_count": 7,
   "metadata": {},
   "outputs": [],
   "source": [
    "#robot velocity (m/s)\n",
    "v = 0.5"
   ]
  },
  {
   "cell_type": "code",
   "execution_count": 8,
   "metadata": {},
   "outputs": [
    {
     "name": "stdout",
     "output_type": "stream",
     "text": [
      "([1, 0], [0, 1])\n"
     ]
    }
   ],
   "source": [
    "H_k = ([1, 0], [0, 1])\n",
    "print(H_k)\n"
   ]
  },
  {
   "cell_type": "code",
   "execution_count": 63,
   "metadata": {},
   "outputs": [],
   "source": [
    "#distance to travel (m)\n",
    "d_goal = 5\n",
    "d_trav = 0\n",
    "#reset time\n",
    "t = 0\n",
    "#reset pos\n",
    "x = x_init\n",
    "y = y_init\n",
    "pos = []"
   ]
  },
  {
   "cell_type": "code",
   "execution_count": 64,
   "metadata": {},
   "outputs": [
    {
     "name": "stdout",
     "output_type": "stream",
     "text": [
      "0 0 0 0\n",
      "x before:  0\n",
      "v before:  0.5\n",
      "delta_x:  0.3535533905932738\n",
      "0.5 1 0.3535533905932738 0.35355339059327373\n",
      "x before:  0.3535533905932738\n",
      "v before:  0.5\n",
      "delta_x:  0.3535533905932738\n",
      "1.0 2 0.7071067811865476 0.7071067811865475\n",
      "x before:  0.7071067811865476\n",
      "v before:  0.5\n",
      "delta_x:  0.3535533905932738\n",
      "1.5 3 1.0606601717798214 1.0606601717798212\n",
      "x before:  1.0606601717798214\n",
      "v before:  0.5\n",
      "delta_x:  0.3535533905932738\n",
      "2.0 4 1.4142135623730951 1.414213562373095\n",
      "x before:  1.4142135623730951\n",
      "v before:  0.5\n",
      "delta_x:  0.3535533905932738\n",
      "2.5 5 1.7677669529663689 1.7677669529663687\n",
      "x before:  1.7677669529663689\n",
      "v before:  0.5\n",
      "delta_x:  0.3535533905932738\n",
      "3.0 6 2.121320343559643 2.1213203435596424\n",
      "x before:  2.121320343559643\n",
      "v before:  0.5\n",
      "delta_x:  0.3535533905932738\n",
      "3.5 7 2.474873734152917 2.474873734152916\n",
      "x before:  2.474873734152917\n",
      "v before:  0.5\n",
      "delta_x:  0.3535533905932738\n",
      "4.0 8 2.8284271247461907 2.82842712474619\n",
      "x before:  2.8284271247461907\n",
      "v before:  0.5\n",
      "delta_x:  0.3535533905932738\n",
      "4.5 9 3.1819805153394647 3.181980515339464\n",
      "x before:  3.1819805153394647\n",
      "v before:  0.5\n",
      "delta_x:  0.3535533905932738\n",
      "5.0 10 3.5355339059327386 3.5355339059327378\n"
     ]
    }
   ],
   "source": [
    "print(d_trav, t, x, y)\n",
    "pos.append((x,y))\n",
    "while d_trav < d_goal:\n",
    "    d_trav, t = distance_update(d_trav, t)\n",
    "    x,y = update_pos(x, y)\n",
    "    pos.append((x,y))\n",
    "    print(d_trav, t, x, y)"
   ]
  },
  {
   "cell_type": "code",
   "execution_count": 11,
   "metadata": {},
   "outputs": [],
   "source": [
    "#this function updates the current distance travelled and time elapsed by the moving robot\n",
    "def distance_update(d, t):\n",
    "    d = d + v\n",
    "    t = t + 1\n",
    "    return (d, t)"
   ]
  },
  {
   "cell_type": "code",
   "execution_count": 13,
   "metadata": {},
   "outputs": [],
   "source": [
    "def update_pos(x,y):\n",
    "    delta_x = (v * (math.cos(math.radians(theta_init))))\n",
    "    delta_y = (v * (math.sin(math.radians(theta_init))))\n",
    "    print(\"delta_x: \", delta_x)\n",
    "    return (x + delta_x, y + delta_y)"
   ]
  },
  {
   "cell_type": "code",
   "execution_count": null,
   "metadata": {},
   "outputs": [],
   "source": [
    "math.cos(math.radians(45))"
   ]
  },
  {
   "cell_type": "code",
   "execution_count": 65,
   "metadata": {},
   "outputs": [
    {
     "name": "stdout",
     "output_type": "stream",
     "text": [
      "[(0, 0), (0.3535533905932738, 0.35355339059327373), (0.7071067811865476, 0.7071067811865475), (1.0606601717798214, 1.0606601717798212), (1.4142135623730951, 1.414213562373095), (1.7677669529663689, 1.7677669529663687), (2.121320343559643, 2.1213203435596424), (2.474873734152917, 2.474873734152916), (2.8284271247461907, 2.82842712474619), (3.1819805153394647, 3.181980515339464), (3.5355339059327386, 3.5355339059327378)]\n"
     ]
    }
   ],
   "source": [
    "print(pos)"
   ]
  },
  {
   "cell_type": "code",
   "execution_count": 81,
   "metadata": {},
   "outputs": [],
   "source": [
    "L_pos = []\n",
    "itr = 0\n",
    "while itr < len(pos):\n",
    "    x_wheel_pos = (pos[itr][0] - (wheelbase/2)*math.cos(math.radians(90-theta_init)))\n",
    "    y_wheel_pos = (pos[itr][1] + (wheelbase/2)*math.sin(math.radians(90-theta_init)))\n",
    "    L_pos.append((x_wheel_pos,y_wheel_pos))\n",
    "    itr+=1"
   ]
  },
  {
   "cell_type": "code",
   "execution_count": 79,
   "metadata": {},
   "outputs": [],
   "source": [
    "R_pos = []\n",
    "itr = 0\n",
    "while itr < len(pos):\n",
    "    x_wheel_pos = (pos[itr][0] + (wheelbase/2)*math.cos(math.radians(90-theta_init)))\n",
    "    y_wheel_pos = (pos[itr][1] - (wheelbase/2)*math.sin(math.radians(90-theta_init)))\n",
    "    R_pos.append((x_wheel_pos,y_wheel_pos))\n",
    "    itr+=1"
   ]
  },
  {
   "cell_type": "code",
   "execution_count": 56,
   "metadata": {},
   "outputs": [
    {
     "name": "stdout",
     "output_type": "stream",
     "text": [
      "[(0.26516504294495535, 0.44194173824159216), (0.6187184335382291, 0.795495128834866), (0.9722718241315029, 1.1490485194281397), (1.3258252147247767, 1.5026019100214134), (1.6793786053180504, 1.8561553006146871), (2.0329319959113246, 2.2097086912079607), (2.3864853865045985, 2.563262081801234), (2.7400387770978725, 2.916815472394508), (3.0935921676911464, 3.270368862987782), (3.4471455582844204, 3.623922253581056)]\n"
     ]
    }
   ],
   "source": [
    "print(L_pos)"
   ]
  },
  {
   "cell_type": "code",
   "execution_count": 73,
   "metadata": {},
   "outputs": [
    {
     "name": "stdout",
     "output_type": "stream",
     "text": [
      "[(0, 0), (0.3535533905932738, 0.35355339059327373), (0.7071067811865476, 0.7071067811865475), (1.0606601717798214, 1.0606601717798212), (1.4142135623730951, 1.414213562373095), (1.7677669529663689, 1.7677669529663687), (2.121320343559643, 2.1213203435596424), (2.474873734152917, 2.474873734152916), (2.8284271247461907, 2.82842712474619), (3.1819805153394647, 3.181980515339464), (3.5355339059327386, 3.5355339059327378)]\n"
     ]
    }
   ],
   "source": [
    "print(pos)"
   ]
  },
  {
   "cell_type": "code",
   "execution_count": 82,
   "metadata": {},
   "outputs": [
    {
     "data": {
      "text/plain": [
       "[<matplotlib.lines.Line2D at 0x7fa2007e65e0>]"
      ]
     },
     "execution_count": 82,
     "metadata": {},
     "output_type": "execute_result"
    },
    {
     "data": {
      "image/png": "[encoded data removed]",
      "text/plain": [
       "<Figure size 432x288 with 1 Axes>"
      ]
     },
     "metadata": {
      "needs_background": "light"
     },
     "output_type": "display_data"
    }
   ],
   "source": [
    "plt.figure()\n",
    "plt.plot(*zip(*pos))\n",
    "x_L,y_L = zip(*L_pos)\n",
    "plt.plot(x_L,y_L)\n",
    "x_R,y_R = zip(*R_pos)\n",
    "plt.plot(x_R,y_R)"
   ]
  },
  {
   "cell_type": "code",
   "execution_count": 68,
   "metadata": {},
   "outputs": [
    {
     "name": "stdout",
     "output_type": "stream",
     "text": [
      "0 0\n",
      "0.3535533905932738 0.35355339059327373\n",
      "0.7071067811865476 0.7071067811865475\n",
      "1.0606601717798214 1.0606601717798212\n",
      "1.4142135623730951 1.414213562373095\n",
      "1.7677669529663689 1.7677669529663687\n",
      "2.121320343559643 2.1213203435596424\n",
      "2.474873734152917 2.474873734152916\n",
      "2.8284271247461907 2.82842712474619\n",
      "3.1819805153394647 3.181980515339464\n",
      "3.5355339059327386 3.5355339059327378\n"
     ]
    },
    {
     "data": {
      "text/plain": [
       "[<matplotlib.lines.Line2D at 0x7fa2010a4310>]"
      ]
     },
     "execution_count": 68,
     "metadata": {},
     "output_type": "execute_result"
    },
    {
     "data": {
      "image/png": "[encoded data removed]",
      "text/plain": [
       "<Figure size 432x288 with 1 Axes>"
      ]
     },
     "metadata": {
      "needs_background": "light"
     },
     "output_type": "display_data"
    }
   ],
   "source": [
    "L_pos = []\n",
    "itr = 0\n",
    "while itr < len(pos):\n",
    "    print(pos[itr][0], pos[itr][1])\n",
    "    x_wheel_pos = (pos[itr][0] - 0.08838834764831843)\n",
    "    y_wheel_pos = (pos[itr][1] + 0.08838834764831843)\n",
    "    L_pos.append((x_wheel_pos,y_wheel_pos))\n",
    "    itr+=1\n",
    "x_L,y_L = zip(*L_pos)\n",
    "plt.plot(x_L,y_L)"
   ]
  },
  {
   "cell_type": "code",
   "execution_count": 69,
   "metadata": {},
   "outputs": [
    {
     "name": "stdout",
     "output_type": "stream",
     "text": [
      "[(-0.08838834764831843, 0.08838834764831843), (0.26516504294495535, 0.44194173824159216), (0.6187184335382292, 0.795495128834866), (0.9722718241315029, 1.1490485194281397), (1.3258252147247767, 1.5026019100214134), (1.6793786053180504, 1.8561553006146871), (2.0329319959113246, 2.2097086912079607), (2.3864853865045985, 2.563262081801234), (2.7400387770978725, 2.916815472394508), (3.0935921676911464, 3.270368862987782), (3.4471455582844204, 3.623922253581056)]\n"
     ]
    }
   ],
   "source": [
    "print(L_pos)"
   ]
  }
 ],
 "metadata": {
  "kernelspec": {
   "display_name": "Python 3",
   "language": "python",
   "name": "python3"
  },
  "language_info": {
   "codemirror_mode": {
    "name": "ipython",
    "version": 3
   },
   "file_extension": ".py",
   "mimetype": "text/x-python",
   "name": "python",
   "nbconvert_exporter": "python",
   "pygments_lexer": "ipython3",
   "version": "3.8.5"
  }
 },
 "nbformat": 4,
 "nbformat_minor": 4
}
