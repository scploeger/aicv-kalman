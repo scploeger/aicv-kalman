{
 "cells": [
  {
   "cell_type": "code",
   "execution_count": 1,
   "metadata": {},
   "outputs": [],
   "source": [
    "#imports\n",
    "import numpy as np\n",
    "import math\n",
    "import matplotlib.pyplot as plt"
   ]
  },
  {
   "cell_type": "code",
   "execution_count": 2,
   "metadata": {},
   "outputs": [],
   "source": [
    "#this function updates the current distance travelled and time elapsed by the moving robot\n",
    "def distance_update(d_current, t_current):\n",
    "    d_total = d_current + d\n",
    "    t_total = t_current + t_interval\n",
    "    return (d_total, t_total) #returns the total travelled distance and the total elapsed time"
   ]
  },
  {
   "cell_type": "code",
   "execution_count": 3,
   "metadata": {},
   "outputs": [],
   "source": [
    "#this function updates the x and y position of the robot each time step based on the\n",
    "#distance travelled per time step, and the initial angle\n",
    "def update_pos(x,y):\n",
    "    delta_x = (d * (math.cos(math.radians(theta_init))))\n",
    "    delta_y = (d * (math.sin(math.radians(theta_init))))\n",
    "    #print(\"delta_x: \", delta_x)\n",
    "    return (x + delta_x, y + delta_y)"
   ]
  },
  {
   "cell_type": "code",
   "execution_count": 4,
   "metadata": {
    "tags": []
   },
   "outputs": [],
   "source": [
    "def create_noise(pos, error):\n",
    "    noise = []\n",
    "    for itr in pos:\n",
    "        noise.append((itr[0] + np.random.normal(0, error), itr[1] + np.random.normal(0, error)))\n",
    "    return noise"
   ]
  },
  {
   "cell_type": "code",
   "execution_count": 5,
   "metadata": {},
   "outputs": [],
   "source": [
    "#\"time interval\" between \"measurements\"\n",
    "t_interval = 0.1"
   ]
  },
  {
   "cell_type": "code",
   "execution_count": 6,
   "metadata": {},
   "outputs": [],
   "source": [
    "#initial position\n",
    "x_init = 0 #robot starts at origin\n",
    "y_init = 0\n",
    "\n",
    "#initialize the robot position\n",
    "x = x_init\n",
    "y = y_init\n",
    "\n",
    "#initial angle\n",
    "theta_init = 0"
   ]
  },
  {
   "cell_type": "code",
   "execution_count": 7,
   "metadata": {},
   "outputs": [],
   "source": [
    "#robot characteristics\n",
    "#robot wheelbase (metres between wheels)\n",
    "wheelbase = 0.25\n",
    "\n",
    "#ticks per meter\n",
    "tpm = 1000\n",
    "\n",
    "#robot velocity (m/s)\n",
    "v = 0.5\n",
    "\n",
    "#distance travelled per time interval =  v (m/s) * t_interval (s) = (m)\n",
    "d = v * t_interval"
   ]
  },
  {
   "cell_type": "code",
   "execution_count": 8,
   "metadata": {},
   "outputs": [],
   "source": [
    "#list for positions\n",
    "pos = []"
   ]
  },
  {
   "cell_type": "code",
   "execution_count": 9,
   "metadata": {},
   "outputs": [],
   "source": [
    "#reset time\n",
    "t = 0"
   ]
  },
  {
   "cell_type": "code",
   "execution_count": 10,
   "metadata": {
    "tags": []
   },
   "outputs": [
    {
     "output_type": "stream",
     "name": "stdout",
     "text": "([1, 0], [0, 1])\n"
    }
   ],
   "source": [
    "#kalman characteristics\n",
    "\n",
    "H_k = ([1, 0], [0, 1])\n",
    "print(H_k)"
   ]
  },
  {
   "cell_type": "code",
   "execution_count": 11,
   "metadata": {},
   "outputs": [],
   "source": [
    "#distance to travel (m)\n",
    "d_goal = 5\n",
    "d_trav = 0\n",
    "#reset time\n",
    "t = 0\n",
    "#reset pos\n",
    "x = x_init\n",
    "y = y_init\n",
    "pos = []"
   ]
  },
  {
   "cell_type": "code",
   "execution_count": 12,
   "metadata": {
    "tags": []
   },
   "outputs": [],
   "source": [
    "#print(d_trav, t, x, y)\n",
    "pos.append((x,y)) #append the starting position\n",
    "while d_trav < d_goal:\n",
    "    d_trav, t = distance_update(d_trav, t)\n",
    "    x,y = update_pos(x, y)\n",
    "    pos.append((x,y))\n",
    "    #print(\"d_trav: \", d_trav)\n",
    "    #print(\"x, y: \", x, y)\n",
    "    #print(d_trav, t, x, y)"
   ]
  },
  {
   "cell_type": "code",
   "execution_count": 13,
   "metadata": {
    "tags": []
   },
   "outputs": [],
   "source": [
    "#print(pos)"
   ]
  },
  {
   "cell_type": "code",
   "execution_count": 14,
   "metadata": {},
   "outputs": [],
   "source": [
    "L_pos = []\n",
    "itr = 0\n",
    "while itr < len(pos):\n",
    "    x_wheel_pos = (pos[itr][0] - (wheelbase/2)*math.cos(math.radians(90-theta_init)))\n",
    "    y_wheel_pos = (pos[itr][1] + (wheelbase/2)*math.sin(math.radians(90-theta_init)))\n",
    "    L_pos.append((x_wheel_pos,y_wheel_pos))\n",
    "    itr+=1"
   ]
  },
  {
   "cell_type": "code",
   "execution_count": 15,
   "metadata": {},
   "outputs": [],
   "source": [
    "R_pos = []\n",
    "itr = 0\n",
    "while itr < len(pos):\n",
    "    x_wheel_pos = (pos[itr][0] + (wheelbase/2)*math.cos(math.radians(90-theta_init)))\n",
    "    y_wheel_pos = (pos[itr][1] - (wheelbase/2)*math.sin(math.radians(90-theta_init)))\n",
    "    R_pos.append((x_wheel_pos,y_wheel_pos))\n",
    "    itr+=1"
   ]
  },
  {
   "cell_type": "code",
   "execution_count": 16,
   "metadata": {
    "tags": []
   },
   "outputs": [],
   "source": [
    "#print(L_pos)"
   ]
  },
  {
   "cell_type": "code",
   "execution_count": 17,
   "metadata": {
    "tags": []
   },
   "outputs": [],
   "source": [
    "#print(pos)"
   ]
  },
  {
   "cell_type": "code",
   "execution_count": 18,
   "metadata": {},
   "outputs": [
    {
     "output_type": "display_data",
     "data": {
      "text/plain": "<Figure size 432x288 with 1 Axes>",
      "image/svg+xml": "<?xml version=\"1.0\" encoding=\"utf-8\" standalone=\"no\"?>\r\n<!DOCTYPE svg PUBLIC \"-//W3C//DTD SVG 1.1//EN\"\r\n  \"http://www.w3.org/Graphics/SVG/1.1/DTD/svg11.dtd\">\r\n<!-- Created with matplotlib (https://matplotlib.org/) -->\r\n<svg height=\"248.518125pt\" version=\"1.1\" viewBox=\"0 0 370.942187 248.518125\" width=\"370.942187pt\" xmlns=\"http://www.w3.org/2000/svg\" xmlns:xlink=\"http://www.w3.org/1999/xlink\">\r\n <defs>\r\n  <style type=\"text/css\">\r\n*{stroke-linecap:butt;stroke-linejoin:round;}\r\n  </style>\r\n </defs>\r\n <g id=\"figure_1\">\r\n  <g id=\"patch_1\">\r\n   <path d=\"M 0 248.518125 \r\nL 370.942187 248.518125 \r\nL 370.942187 0 \r\nL 0 0 \r\nz\r\n\" style=\"fill:none;\"/>\r\n  </g>\r\n  <g id=\"axes_1\">\r\n   <g id=\"patch_2\">\r\n    <path d=\"M 28.942188 224.64 \r\nL 363.742188 224.64 \r\nL 363.742188 7.2 \r\nL 28.942188 7.2 \r\nz\r\n\" style=\"fill:#ffffff;\"/>\r\n   </g>\r\n   <g id=\"matplotlib.axis_1\">\r\n    <g id=\"xtick_1\">\r\n     <g id=\"line2d_1\">\r\n      <defs>\r\n       <path d=\"M 0 0 \r\nL 0 3.5 \r\n\" id=\"m90004c76e5\" style=\"stroke:#000000;stroke-width:0.8;\"/>\r\n      </defs>\r\n      <g>\r\n       <use style=\"stroke:#000000;stroke-width:0.8;\" x=\"62.422188\" xlink:href=\"#m90004c76e5\" y=\"224.64\"/>\r\n      </g>\r\n     </g>\r\n     <g id=\"text_1\">\r\n      <!-- −4 -->\r\n      <defs>\r\n       <path d=\"M 10.59375 35.5 \r\nL 73.1875 35.5 \r\nL 73.1875 27.203125 \r\nL 10.59375 27.203125 \r\nz\r\n\" id=\"DejaVuSans-8722\"/>\r\n       <path d=\"M 37.796875 64.3125 \r\nL 12.890625 25.390625 \r\nL 37.796875 25.390625 \r\nz\r\nM 35.203125 72.90625 \r\nL 47.609375 72.90625 \r\nL 47.609375 25.390625 \r\nL 58.015625 25.390625 \r\nL 58.015625 17.1875 \r\nL 47.609375 17.1875 \r\nL 47.609375 0 \r\nL 37.796875 0 \r\nL 37.796875 17.1875 \r\nL 4.890625 17.1875 \r\nL 4.890625 26.703125 \r\nz\r\n\" id=\"DejaVuSans-52\"/>\r\n      </defs>\r\n      <g transform=\"translate(55.051094 239.238437)scale(0.1 -0.1)\">\r\n       <use xlink:href=\"#DejaVuSans-8722\"/>\r\n       <use x=\"83.789062\" xlink:href=\"#DejaVuSans-52\"/>\r\n      </g>\r\n     </g>\r\n    </g>\r\n    <g id=\"xtick_2\">\r\n     <g id=\"line2d_2\">\r\n      <g>\r\n       <use style=\"stroke:#000000;stroke-width:0.8;\" x=\"129.382188\" xlink:href=\"#m90004c76e5\" y=\"224.64\"/>\r\n      </g>\r\n     </g>\r\n     <g id=\"text_2\">\r\n      <!-- −2 -->\r\n      <defs>\r\n       <path d=\"M 19.1875 8.296875 \r\nL 53.609375 8.296875 \r\nL 53.609375 0 \r\nL 7.328125 0 \r\nL 7.328125 8.296875 \r\nQ 12.9375 14.109375 22.625 23.890625 \r\nQ 32.328125 33.6875 34.8125 36.53125 \r\nQ 39.546875 41.84375 41.421875 45.53125 \r\nQ 43.3125 49.21875 43.3125 52.78125 \r\nQ 43.3125 58.59375 39.234375 62.25 \r\nQ 35.15625 65.921875 28.609375 65.921875 \r\nQ 23.96875 65.921875 18.8125 64.3125 \r\nQ 13.671875 62.703125 7.8125 59.421875 \r\nL 7.8125 69.390625 \r\nQ 13.765625 71.78125 18.9375 73 \r\nQ 24.125 74.21875 28.421875 74.21875 \r\nQ 39.75 74.21875 46.484375 68.546875 \r\nQ 53.21875 62.890625 53.21875 53.421875 \r\nQ 53.21875 48.921875 51.53125 44.890625 \r\nQ 49.859375 40.875 45.40625 35.40625 \r\nQ 44.1875 33.984375 37.640625 27.21875 \r\nQ 31.109375 20.453125 19.1875 8.296875 \r\nz\r\n\" id=\"DejaVuSans-50\"/>\r\n      </defs>\r\n      <g transform=\"translate(122.011094 239.238437)scale(0.1 -0.1)\">\r\n       <use xlink:href=\"#DejaVuSans-8722\"/>\r\n       <use x=\"83.789062\" xlink:href=\"#DejaVuSans-50\"/>\r\n      </g>\r\n     </g>\r\n    </g>\r\n    <g id=\"xtick_3\">\r\n     <g id=\"line2d_3\">\r\n      <g>\r\n       <use style=\"stroke:#000000;stroke-width:0.8;\" x=\"196.342188\" xlink:href=\"#m90004c76e5\" y=\"224.64\"/>\r\n      </g>\r\n     </g>\r\n     <g id=\"text_3\">\r\n      <!-- 0 -->\r\n      <defs>\r\n       <path d=\"M 31.78125 66.40625 \r\nQ 24.171875 66.40625 20.328125 58.90625 \r\nQ 16.5 51.421875 16.5 36.375 \r\nQ 16.5 21.390625 20.328125 13.890625 \r\nQ 24.171875 6.390625 31.78125 6.390625 \r\nQ 39.453125 6.390625 43.28125 13.890625 \r\nQ 47.125 21.390625 47.125 36.375 \r\nQ 47.125 51.421875 43.28125 58.90625 \r\nQ 39.453125 66.40625 31.78125 66.40625 \r\nz\r\nM 31.78125 74.21875 \r\nQ 44.046875 74.21875 50.515625 64.515625 \r\nQ 56.984375 54.828125 56.984375 36.375 \r\nQ 56.984375 17.96875 50.515625 8.265625 \r\nQ 44.046875 -1.421875 31.78125 -1.421875 \r\nQ 19.53125 -1.421875 13.0625 8.265625 \r\nQ 6.59375 17.96875 6.59375 36.375 \r\nQ 6.59375 54.828125 13.0625 64.515625 \r\nQ 19.53125 74.21875 31.78125 74.21875 \r\nz\r\n\" id=\"DejaVuSans-48\"/>\r\n      </defs>\r\n      <g transform=\"translate(193.160938 239.238437)scale(0.1 -0.1)\">\r\n       <use xlink:href=\"#DejaVuSans-48\"/>\r\n      </g>\r\n     </g>\r\n    </g>\r\n    <g id=\"xtick_4\">\r\n     <g id=\"line2d_4\">\r\n      <g>\r\n       <use style=\"stroke:#000000;stroke-width:0.8;\" x=\"263.302188\" xlink:href=\"#m90004c76e5\" y=\"224.64\"/>\r\n      </g>\r\n     </g>\r\n     <g id=\"text_4\">\r\n      <!-- 2 -->\r\n      <g transform=\"translate(260.120938 239.238437)scale(0.1 -0.1)\">\r\n       <use xlink:href=\"#DejaVuSans-50\"/>\r\n      </g>\r\n     </g>\r\n    </g>\r\n    <g id=\"xtick_5\">\r\n     <g id=\"line2d_5\">\r\n      <g>\r\n       <use style=\"stroke:#000000;stroke-width:0.8;\" x=\"330.262188\" xlink:href=\"#m90004c76e5\" y=\"224.64\"/>\r\n      </g>\r\n     </g>\r\n     <g id=\"text_5\">\r\n      <!-- 4 -->\r\n      <g transform=\"translate(327.080938 239.238437)scale(0.1 -0.1)\">\r\n       <use xlink:href=\"#DejaVuSans-52\"/>\r\n      </g>\r\n     </g>\r\n    </g>\r\n   </g>\r\n   <g id=\"matplotlib.axis_2\">\r\n    <g id=\"ytick_1\">\r\n     <g id=\"line2d_6\">\r\n      <defs>\r\n       <path d=\"M 0 0 \r\nL -3.5 0 \r\n\" id=\"ma3a60d5e84\" style=\"stroke:#000000;stroke-width:0.8;\"/>\r\n      </defs>\r\n      <g>\r\n       <use style=\"stroke:#000000;stroke-width:0.8;\" x=\"28.942188\" xlink:href=\"#ma3a60d5e84\" y=\"202.896\"/>\r\n      </g>\r\n     </g>\r\n     <g id=\"text_6\">\r\n      <!-- −4 -->\r\n      <g transform=\"translate(7.2 206.695219)scale(0.1 -0.1)\">\r\n       <use xlink:href=\"#DejaVuSans-8722\"/>\r\n       <use x=\"83.789062\" xlink:href=\"#DejaVuSans-52\"/>\r\n      </g>\r\n     </g>\r\n    </g>\r\n    <g id=\"ytick_2\">\r\n     <g id=\"line2d_7\">\r\n      <g>\r\n       <use style=\"stroke:#000000;stroke-width:0.8;\" x=\"28.942188\" xlink:href=\"#ma3a60d5e84\" y=\"159.408\"/>\r\n      </g>\r\n     </g>\r\n     <g id=\"text_7\">\r\n      <!-- −2 -->\r\n      <g transform=\"translate(7.2 163.207219)scale(0.1 -0.1)\">\r\n       <use xlink:href=\"#DejaVuSans-8722\"/>\r\n       <use x=\"83.789062\" xlink:href=\"#DejaVuSans-50\"/>\r\n      </g>\r\n     </g>\r\n    </g>\r\n    <g id=\"ytick_3\">\r\n     <g id=\"line2d_8\">\r\n      <g>\r\n       <use style=\"stroke:#000000;stroke-width:0.8;\" x=\"28.942188\" xlink:href=\"#ma3a60d5e84\" y=\"115.92\"/>\r\n      </g>\r\n     </g>\r\n     <g id=\"text_8\">\r\n      <!-- 0 -->\r\n      <g transform=\"translate(15.579688 119.719219)scale(0.1 -0.1)\">\r\n       <use xlink:href=\"#DejaVuSans-48\"/>\r\n      </g>\r\n     </g>\r\n    </g>\r\n    <g id=\"ytick_4\">\r\n     <g id=\"line2d_9\">\r\n      <g>\r\n       <use style=\"stroke:#000000;stroke-width:0.8;\" x=\"28.942188\" xlink:href=\"#ma3a60d5e84\" y=\"72.432\"/>\r\n      </g>\r\n     </g>\r\n     <g id=\"text_9\">\r\n      <!-- 2 -->\r\n      <g transform=\"translate(15.579688 76.231219)scale(0.1 -0.1)\">\r\n       <use xlink:href=\"#DejaVuSans-50\"/>\r\n      </g>\r\n     </g>\r\n    </g>\r\n    <g id=\"ytick_5\">\r\n     <g id=\"line2d_10\">\r\n      <g>\r\n       <use style=\"stroke:#000000;stroke-width:0.8;\" x=\"28.942188\" xlink:href=\"#ma3a60d5e84\" y=\"28.944\"/>\r\n      </g>\r\n     </g>\r\n     <g id=\"text_10\">\r\n      <!-- 4 -->\r\n      <g transform=\"translate(15.579688 32.743219)scale(0.1 -0.1)\">\r\n       <use xlink:href=\"#DejaVuSans-52\"/>\r\n      </g>\r\n     </g>\r\n    </g>\r\n   </g>\r\n   <g id=\"line2d_11\">\r\n    <path clip-path=\"url(#pbc78939f25)\" d=\"M 196.342188 115.92 \r\nL 198.016188 115.92 \r\nL 199.690188 115.92 \r\nL 201.364188 115.92 \r\nL 203.038188 115.92 \r\nL 204.712188 115.92 \r\nL 206.386188 115.92 \r\nL 208.060188 115.92 \r\nL 209.734188 115.92 \r\nL 211.408188 115.92 \r\nL 213.082188 115.92 \r\nL 214.756188 115.92 \r\nL 216.430188 115.92 \r\nL 218.104188 115.92 \r\nL 219.778188 115.92 \r\nL 221.452188 115.92 \r\nL 223.126188 115.92 \r\nL 224.800188 115.92 \r\nL 226.474188 115.92 \r\nL 228.148188 115.92 \r\nL 229.822188 115.92 \r\nL 231.496188 115.92 \r\nL 233.170188 115.92 \r\nL 234.844188 115.92 \r\nL 236.518188 115.92 \r\nL 238.192188 115.92 \r\nL 239.866188 115.92 \r\nL 241.540188 115.92 \r\nL 243.214188 115.92 \r\nL 244.888188 115.92 \r\nL 246.562188 115.92 \r\nL 248.236188 115.92 \r\nL 249.910188 115.92 \r\nL 251.584188 115.92 \r\nL 253.258188 115.92 \r\nL 254.932188 115.92 \r\nL 256.606188 115.92 \r\nL 258.280188 115.92 \r\nL 259.954188 115.92 \r\nL 261.628188 115.92 \r\nL 263.302188 115.92 \r\nL 264.976188 115.92 \r\nL 266.650188 115.92 \r\nL 268.324188 115.92 \r\nL 269.998188 115.92 \r\nL 271.672188 115.92 \r\nL 273.346188 115.92 \r\nL 275.020188 115.92 \r\nL 276.694187 115.92 \r\nL 278.368187 115.92 \r\nL 280.042188 115.92 \r\nL 281.716187 115.92 \r\nL 283.390188 115.92 \r\nL 285.064188 115.92 \r\nL 286.738187 115.92 \r\nL 288.412187 115.92 \r\nL 290.086187 115.92 \r\nL 291.760187 115.92 \r\nL 293.434187 115.92 \r\nL 295.108187 115.92 \r\nL 296.782187 115.92 \r\nL 298.456187 115.92 \r\nL 300.130187 115.92 \r\nL 301.804187 115.92 \r\nL 303.478187 115.92 \r\nL 305.152187 115.92 \r\nL 306.826187 115.92 \r\nL 308.500187 115.92 \r\nL 310.174187 115.92 \r\nL 311.848187 115.92 \r\nL 313.522187 115.92 \r\nL 315.196187 115.92 \r\nL 316.870187 115.92 \r\nL 318.544187 115.92 \r\nL 320.218187 115.92 \r\nL 321.892187 115.92 \r\nL 323.566187 115.92 \r\nL 325.240187 115.92 \r\nL 326.914187 115.92 \r\nL 328.588187 115.92 \r\nL 330.262187 115.92 \r\nL 331.936187 115.92 \r\nL 333.610187 115.92 \r\nL 335.284187 115.92 \r\nL 336.958187 115.92 \r\nL 338.632187 115.92 \r\nL 340.306187 115.92 \r\nL 341.980187 115.92 \r\nL 343.654187 115.92 \r\nL 345.328187 115.92 \r\nL 347.002187 115.92 \r\nL 348.676187 115.92 \r\nL 350.350187 115.92 \r\nL 352.024187 115.92 \r\nL 353.698187 115.92 \r\nL 355.372187 115.92 \r\nL 357.046187 115.92 \r\nL 358.720187 115.92 \r\nL 360.394187 115.92 \r\nL 362.068187 115.92 \r\nL 363.742187 115.92 \r\nL 365.416187 115.92 \r\n\" style=\"fill:none;stroke:#ff0000;stroke-linecap:square;stroke-width:1.5;\"/>\r\n   </g>\r\n   <g id=\"line2d_12\">\r\n    <path clip-path=\"url(#pbc78939f25)\" d=\"M 196.342188 113.202 \r\nL 198.016188 113.202 \r\nL 199.690188 113.202 \r\nL 201.364188 113.202 \r\nL 203.038188 113.202 \r\nL 204.712188 113.202 \r\nL 206.386188 113.202 \r\nL 208.060188 113.202 \r\nL 209.734188 113.202 \r\nL 211.408188 113.202 \r\nL 213.082188 113.202 \r\nL 214.756188 113.202 \r\nL 216.430188 113.202 \r\nL 218.104188 113.202 \r\nL 219.778188 113.202 \r\nL 221.452188 113.202 \r\nL 223.126188 113.202 \r\nL 224.800188 113.202 \r\nL 226.474188 113.202 \r\nL 228.148188 113.202 \r\nL 229.822188 113.202 \r\nL 231.496188 113.202 \r\nL 233.170188 113.202 \r\nL 234.844188 113.202 \r\nL 236.518188 113.202 \r\nL 238.192188 113.202 \r\nL 239.866188 113.202 \r\nL 241.540188 113.202 \r\nL 243.214188 113.202 \r\nL 244.888188 113.202 \r\nL 246.562188 113.202 \r\nL 248.236188 113.202 \r\nL 249.910188 113.202 \r\nL 251.584188 113.202 \r\nL 253.258188 113.202 \r\nL 254.932188 113.202 \r\nL 256.606188 113.202 \r\nL 258.280188 113.202 \r\nL 259.954188 113.202 \r\nL 261.628188 113.202 \r\nL 263.302188 113.202 \r\nL 264.976188 113.202 \r\nL 266.650188 113.202 \r\nL 268.324188 113.202 \r\nL 269.998188 113.202 \r\nL 271.672188 113.202 \r\nL 273.346188 113.202 \r\nL 275.020188 113.202 \r\nL 276.694187 113.202 \r\nL 278.368187 113.202 \r\nL 280.042188 113.202 \r\nL 281.716187 113.202 \r\nL 283.390188 113.202 \r\nL 285.064188 113.202 \r\nL 286.738187 113.202 \r\nL 288.412187 113.202 \r\nL 290.086187 113.202 \r\nL 291.760187 113.202 \r\nL 293.434187 113.202 \r\nL 295.108187 113.202 \r\nL 296.782187 113.202 \r\nL 298.456187 113.202 \r\nL 300.130187 113.202 \r\nL 301.804187 113.202 \r\nL 303.478187 113.202 \r\nL 305.152187 113.202 \r\nL 306.826187 113.202 \r\nL 308.500187 113.202 \r\nL 310.174187 113.202 \r\nL 311.848187 113.202 \r\nL 313.522187 113.202 \r\nL 315.196187 113.202 \r\nL 316.870187 113.202 \r\nL 318.544187 113.202 \r\nL 320.218187 113.202 \r\nL 321.892187 113.202 \r\nL 323.566187 113.202 \r\nL 325.240187 113.202 \r\nL 326.914187 113.202 \r\nL 328.588187 113.202 \r\nL 330.262187 113.202 \r\nL 331.936187 113.202 \r\nL 333.610187 113.202 \r\nL 335.284187 113.202 \r\nL 336.958187 113.202 \r\nL 338.632187 113.202 \r\nL 340.306187 113.202 \r\nL 341.980187 113.202 \r\nL 343.654187 113.202 \r\nL 345.328187 113.202 \r\nL 347.002187 113.202 \r\nL 348.676187 113.202 \r\nL 350.350187 113.202 \r\nL 352.024187 113.202 \r\nL 353.698187 113.202 \r\nL 355.372187 113.202 \r\nL 357.046187 113.202 \r\nL 358.720187 113.202 \r\nL 360.394187 113.202 \r\nL 362.068187 113.202 \r\nL 363.742187 113.202 \r\nL 365.416187 113.202 \r\n\" style=\"fill:none;stroke:#000000;stroke-dasharray:1.5,2.475;stroke-dashoffset:0;stroke-width:1.5;\"/>\r\n   </g>\r\n   <g id=\"line2d_13\">\r\n    <path clip-path=\"url(#pbc78939f25)\" d=\"M 196.342188 118.638 \r\nL 198.016188 118.638 \r\nL 199.690188 118.638 \r\nL 201.364188 118.638 \r\nL 203.038188 118.638 \r\nL 204.712188 118.638 \r\nL 206.386188 118.638 \r\nL 208.060188 118.638 \r\nL 209.734188 118.638 \r\nL 211.408188 118.638 \r\nL 213.082188 118.638 \r\nL 214.756188 118.638 \r\nL 216.430188 118.638 \r\nL 218.104188 118.638 \r\nL 219.778188 118.638 \r\nL 221.452188 118.638 \r\nL 223.126188 118.638 \r\nL 224.800188 118.638 \r\nL 226.474188 118.638 \r\nL 228.148188 118.638 \r\nL 229.822188 118.638 \r\nL 231.496188 118.638 \r\nL 233.170188 118.638 \r\nL 234.844188 118.638 \r\nL 236.518188 118.638 \r\nL 238.192188 118.638 \r\nL 239.866188 118.638 \r\nL 241.540188 118.638 \r\nL 243.214188 118.638 \r\nL 244.888188 118.638 \r\nL 246.562188 118.638 \r\nL 248.236188 118.638 \r\nL 249.910188 118.638 \r\nL 251.584188 118.638 \r\nL 253.258188 118.638 \r\nL 254.932188 118.638 \r\nL 256.606188 118.638 \r\nL 258.280188 118.638 \r\nL 259.954188 118.638 \r\nL 261.628188 118.638 \r\nL 263.302188 118.638 \r\nL 264.976188 118.638 \r\nL 266.650188 118.638 \r\nL 268.324188 118.638 \r\nL 269.998188 118.638 \r\nL 271.672188 118.638 \r\nL 273.346188 118.638 \r\nL 275.020188 118.638 \r\nL 276.694187 118.638 \r\nL 278.368187 118.638 \r\nL 280.042188 118.638 \r\nL 281.716187 118.638 \r\nL 283.390188 118.638 \r\nL 285.064188 118.638 \r\nL 286.738187 118.638 \r\nL 288.412187 118.638 \r\nL 290.086187 118.638 \r\nL 291.760187 118.638 \r\nL 293.434187 118.638 \r\nL 295.108187 118.638 \r\nL 296.782187 118.638 \r\nL 298.456187 118.638 \r\nL 300.130187 118.638 \r\nL 301.804187 118.638 \r\nL 303.478187 118.638 \r\nL 305.152187 118.638 \r\nL 306.826187 118.638 \r\nL 308.500187 118.638 \r\nL 310.174187 118.638 \r\nL 311.848187 118.638 \r\nL 313.522187 118.638 \r\nL 315.196187 118.638 \r\nL 316.870187 118.638 \r\nL 318.544187 118.638 \r\nL 320.218187 118.638 \r\nL 321.892187 118.638 \r\nL 323.566187 118.638 \r\nL 325.240187 118.638 \r\nL 326.914187 118.638 \r\nL 328.588187 118.638 \r\nL 330.262187 118.638 \r\nL 331.936187 118.638 \r\nL 333.610187 118.638 \r\nL 335.284187 118.638 \r\nL 336.958187 118.638 \r\nL 338.632187 118.638 \r\nL 340.306187 118.638 \r\nL 341.980187 118.638 \r\nL 343.654187 118.638 \r\nL 345.328187 118.638 \r\nL 347.002187 118.638 \r\nL 348.676187 118.638 \r\nL 350.350187 118.638 \r\nL 352.024187 118.638 \r\nL 353.698187 118.638 \r\nL 355.372187 118.638 \r\nL 357.046187 118.638 \r\nL 358.720187 118.638 \r\nL 360.394187 118.638 \r\nL 362.068187 118.638 \r\nL 363.742187 118.638 \r\nL 365.416187 118.638 \r\n\" style=\"fill:none;stroke:#000000;stroke-dasharray:1.5,2.475;stroke-dashoffset:0;stroke-width:1.5;\"/>\r\n   </g>\r\n   <g id=\"patch_3\">\r\n    <path d=\"M 28.942188 224.64 \r\nL 28.942188 7.2 \r\n\" style=\"fill:none;stroke:#000000;stroke-linecap:square;stroke-linejoin:miter;stroke-width:0.8;\"/>\r\n   </g>\r\n   <g id=\"patch_4\">\r\n    <path d=\"M 363.742188 224.64 \r\nL 363.742188 7.2 \r\n\" style=\"fill:none;stroke:#000000;stroke-linecap:square;stroke-linejoin:miter;stroke-width:0.8;\"/>\r\n   </g>\r\n   <g id=\"patch_5\">\r\n    <path d=\"M 28.942187 224.64 \r\nL 363.742188 224.64 \r\n\" style=\"fill:none;stroke:#000000;stroke-linecap:square;stroke-linejoin:miter;stroke-width:0.8;\"/>\r\n   </g>\r\n   <g id=\"patch_6\">\r\n    <path d=\"M 28.942187 7.2 \r\nL 363.742188 7.2 \r\n\" style=\"fill:none;stroke:#000000;stroke-linecap:square;stroke-linejoin:miter;stroke-width:0.8;\"/>\r\n   </g>\r\n   <g id=\"legend_1\">\r\n    <g id=\"patch_7\">\r\n     <path d=\"M 255.5625 59.234375 \r\nL 356.742188 59.234375 \r\nQ 358.742188 59.234375 358.742188 57.234375 \r\nL 358.742188 14.2 \r\nQ 358.742188 12.2 356.742188 12.2 \r\nL 255.5625 12.2 \r\nQ 253.5625 12.2 253.5625 14.2 \r\nL 253.5625 57.234375 \r\nQ 253.5625 59.234375 255.5625 59.234375 \r\nz\r\n\" style=\"fill:#ffffff;opacity:0.8;stroke:#cccccc;stroke-linejoin:miter;\"/>\r\n    </g>\r\n    <g id=\"line2d_14\">\r\n     <path d=\"M 257.5625 20.298437 \r\nL 277.5625 20.298437 \r\n\" style=\"fill:none;stroke:#ff0000;stroke-linecap:square;stroke-width:1.5;\"/>\r\n    </g>\r\n    <g id=\"line2d_15\"/>\r\n    <g id=\"text_11\">\r\n     <!-- robot position -->\r\n     <defs>\r\n      <path d=\"M 41.109375 46.296875 \r\nQ 39.59375 47.171875 37.8125 47.578125 \r\nQ 36.03125 48 33.890625 48 \r\nQ 26.265625 48 22.1875 43.046875 \r\nQ 18.109375 38.09375 18.109375 28.8125 \r\nL 18.109375 0 \r\nL 9.078125 0 \r\nL 9.078125 54.6875 \r\nL 18.109375 54.6875 \r\nL 18.109375 46.1875 \r\nQ 20.953125 51.171875 25.484375 53.578125 \r\nQ 30.03125 56 36.53125 56 \r\nQ 37.453125 56 38.578125 55.875 \r\nQ 39.703125 55.765625 41.0625 55.515625 \r\nz\r\n\" id=\"DejaVuSans-114\"/>\r\n      <path d=\"M 30.609375 48.390625 \r\nQ 23.390625 48.390625 19.1875 42.75 \r\nQ 14.984375 37.109375 14.984375 27.296875 \r\nQ 14.984375 17.484375 19.15625 11.84375 \r\nQ 23.34375 6.203125 30.609375 6.203125 \r\nQ 37.796875 6.203125 41.984375 11.859375 \r\nQ 46.1875 17.53125 46.1875 27.296875 \r\nQ 46.1875 37.015625 41.984375 42.703125 \r\nQ 37.796875 48.390625 30.609375 48.390625 \r\nz\r\nM 30.609375 56 \r\nQ 42.328125 56 49.015625 48.375 \r\nQ 55.71875 40.765625 55.71875 27.296875 \r\nQ 55.71875 13.875 49.015625 6.21875 \r\nQ 42.328125 -1.421875 30.609375 -1.421875 \r\nQ 18.84375 -1.421875 12.171875 6.21875 \r\nQ 5.515625 13.875 5.515625 27.296875 \r\nQ 5.515625 40.765625 12.171875 48.375 \r\nQ 18.84375 56 30.609375 56 \r\nz\r\n\" id=\"DejaVuSans-111\"/>\r\n      <path d=\"M 48.6875 27.296875 \r\nQ 48.6875 37.203125 44.609375 42.84375 \r\nQ 40.53125 48.484375 33.40625 48.484375 \r\nQ 26.265625 48.484375 22.1875 42.84375 \r\nQ 18.109375 37.203125 18.109375 27.296875 \r\nQ 18.109375 17.390625 22.1875 11.75 \r\nQ 26.265625 6.109375 33.40625 6.109375 \r\nQ 40.53125 6.109375 44.609375 11.75 \r\nQ 48.6875 17.390625 48.6875 27.296875 \r\nz\r\nM 18.109375 46.390625 \r\nQ 20.953125 51.265625 25.265625 53.625 \r\nQ 29.59375 56 35.59375 56 \r\nQ 45.5625 56 51.78125 48.09375 \r\nQ 58.015625 40.1875 58.015625 27.296875 \r\nQ 58.015625 14.40625 51.78125 6.484375 \r\nQ 45.5625 -1.421875 35.59375 -1.421875 \r\nQ 29.59375 -1.421875 25.265625 0.953125 \r\nQ 20.953125 3.328125 18.109375 8.203125 \r\nL 18.109375 0 \r\nL 9.078125 0 \r\nL 9.078125 75.984375 \r\nL 18.109375 75.984375 \r\nz\r\n\" id=\"DejaVuSans-98\"/>\r\n      <path d=\"M 18.3125 70.21875 \r\nL 18.3125 54.6875 \r\nL 36.8125 54.6875 \r\nL 36.8125 47.703125 \r\nL 18.3125 47.703125 \r\nL 18.3125 18.015625 \r\nQ 18.3125 11.328125 20.140625 9.421875 \r\nQ 21.96875 7.515625 27.59375 7.515625 \r\nL 36.8125 7.515625 \r\nL 36.8125 0 \r\nL 27.59375 0 \r\nQ 17.1875 0 13.234375 3.875 \r\nQ 9.28125 7.765625 9.28125 18.015625 \r\nL 9.28125 47.703125 \r\nL 2.6875 47.703125 \r\nL 2.6875 54.6875 \r\nL 9.28125 54.6875 \r\nL 9.28125 70.21875 \r\nz\r\n\" id=\"DejaVuSans-116\"/>\r\n      <path id=\"DejaVuSans-32\"/>\r\n      <path d=\"M 18.109375 8.203125 \r\nL 18.109375 -20.796875 \r\nL 9.078125 -20.796875 \r\nL 9.078125 54.6875 \r\nL 18.109375 54.6875 \r\nL 18.109375 46.390625 \r\nQ 20.953125 51.265625 25.265625 53.625 \r\nQ 29.59375 56 35.59375 56 \r\nQ 45.5625 56 51.78125 48.09375 \r\nQ 58.015625 40.1875 58.015625 27.296875 \r\nQ 58.015625 14.40625 51.78125 6.484375 \r\nQ 45.5625 -1.421875 35.59375 -1.421875 \r\nQ 29.59375 -1.421875 25.265625 0.953125 \r\nQ 20.953125 3.328125 18.109375 8.203125 \r\nz\r\nM 48.6875 27.296875 \r\nQ 48.6875 37.203125 44.609375 42.84375 \r\nQ 40.53125 48.484375 33.40625 48.484375 \r\nQ 26.265625 48.484375 22.1875 42.84375 \r\nQ 18.109375 37.203125 18.109375 27.296875 \r\nQ 18.109375 17.390625 22.1875 11.75 \r\nQ 26.265625 6.109375 33.40625 6.109375 \r\nQ 40.53125 6.109375 44.609375 11.75 \r\nQ 48.6875 17.390625 48.6875 27.296875 \r\nz\r\n\" id=\"DejaVuSans-112\"/>\r\n      <path d=\"M 44.28125 53.078125 \r\nL 44.28125 44.578125 \r\nQ 40.484375 46.53125 36.375 47.5 \r\nQ 32.28125 48.484375 27.875 48.484375 \r\nQ 21.1875 48.484375 17.84375 46.4375 \r\nQ 14.5 44.390625 14.5 40.28125 \r\nQ 14.5 37.15625 16.890625 35.375 \r\nQ 19.28125 33.59375 26.515625 31.984375 \r\nL 29.59375 31.296875 \r\nQ 39.15625 29.25 43.1875 25.515625 \r\nQ 47.21875 21.78125 47.21875 15.09375 \r\nQ 47.21875 7.46875 41.1875 3.015625 \r\nQ 35.15625 -1.421875 24.609375 -1.421875 \r\nQ 20.21875 -1.421875 15.453125 -0.5625 \r\nQ 10.6875 0.296875 5.421875 2 \r\nL 5.421875 11.28125 \r\nQ 10.40625 8.6875 15.234375 7.390625 \r\nQ 20.0625 6.109375 24.8125 6.109375 \r\nQ 31.15625 6.109375 34.5625 8.28125 \r\nQ 37.984375 10.453125 37.984375 14.40625 \r\nQ 37.984375 18.0625 35.515625 20.015625 \r\nQ 33.0625 21.96875 24.703125 23.78125 \r\nL 21.578125 24.515625 \r\nQ 13.234375 26.265625 9.515625 29.90625 \r\nQ 5.8125 33.546875 5.8125 39.890625 \r\nQ 5.8125 47.609375 11.28125 51.796875 \r\nQ 16.75 56 26.8125 56 \r\nQ 31.78125 56 36.171875 55.265625 \r\nQ 40.578125 54.546875 44.28125 53.078125 \r\nz\r\n\" id=\"DejaVuSans-115\"/>\r\n      <path d=\"M 9.421875 54.6875 \r\nL 18.40625 54.6875 \r\nL 18.40625 0 \r\nL 9.421875 0 \r\nz\r\nM 9.421875 75.984375 \r\nL 18.40625 75.984375 \r\nL 18.40625 64.59375 \r\nL 9.421875 64.59375 \r\nz\r\n\" id=\"DejaVuSans-105\"/>\r\n      <path d=\"M 54.890625 33.015625 \r\nL 54.890625 0 \r\nL 45.90625 0 \r\nL 45.90625 32.71875 \r\nQ 45.90625 40.484375 42.875 44.328125 \r\nQ 39.84375 48.1875 33.796875 48.1875 \r\nQ 26.515625 48.1875 22.3125 43.546875 \r\nQ 18.109375 38.921875 18.109375 30.90625 \r\nL 18.109375 0 \r\nL 9.078125 0 \r\nL 9.078125 54.6875 \r\nL 18.109375 54.6875 \r\nL 18.109375 46.1875 \r\nQ 21.34375 51.125 25.703125 53.5625 \r\nQ 30.078125 56 35.796875 56 \r\nQ 45.21875 56 50.046875 50.171875 \r\nQ 54.890625 44.34375 54.890625 33.015625 \r\nz\r\n\" id=\"DejaVuSans-110\"/>\r\n     </defs>\r\n     <g transform=\"translate(285.5625 23.798437)scale(0.1 -0.1)\">\r\n      <use xlink:href=\"#DejaVuSans-114\"/>\r\n      <use x=\"38.863281\" xlink:href=\"#DejaVuSans-111\"/>\r\n      <use x=\"100.044922\" xlink:href=\"#DejaVuSans-98\"/>\r\n      <use x=\"163.521484\" xlink:href=\"#DejaVuSans-111\"/>\r\n      <use x=\"224.703125\" xlink:href=\"#DejaVuSans-116\"/>\r\n      <use x=\"263.912109\" xlink:href=\"#DejaVuSans-32\"/>\r\n      <use x=\"295.699219\" xlink:href=\"#DejaVuSans-112\"/>\r\n      <use x=\"359.175781\" xlink:href=\"#DejaVuSans-111\"/>\r\n      <use x=\"420.357422\" xlink:href=\"#DejaVuSans-115\"/>\r\n      <use x=\"472.457031\" xlink:href=\"#DejaVuSans-105\"/>\r\n      <use x=\"500.240234\" xlink:href=\"#DejaVuSans-116\"/>\r\n      <use x=\"539.449219\" xlink:href=\"#DejaVuSans-105\"/>\r\n      <use x=\"567.232422\" xlink:href=\"#DejaVuSans-111\"/>\r\n      <use x=\"628.414062\" xlink:href=\"#DejaVuSans-110\"/>\r\n     </g>\r\n    </g>\r\n    <g id=\"line2d_16\">\r\n     <path d=\"M 257.5625 34.976562 \r\nL 277.5625 34.976562 \r\n\" style=\"fill:none;stroke:#000000;stroke-dasharray:1.5,2.475;stroke-dashoffset:0;stroke-width:1.5;\"/>\r\n    </g>\r\n    <g id=\"line2d_17\"/>\r\n    <g id=\"text_12\">\r\n     <!-- left wheel -->\r\n     <defs>\r\n      <path d=\"M 9.421875 75.984375 \r\nL 18.40625 75.984375 \r\nL 18.40625 0 \r\nL 9.421875 0 \r\nz\r\n\" id=\"DejaVuSans-108\"/>\r\n      <path d=\"M 56.203125 29.59375 \r\nL 56.203125 25.203125 \r\nL 14.890625 25.203125 \r\nQ 15.484375 15.921875 20.484375 11.0625 \r\nQ 25.484375 6.203125 34.421875 6.203125 \r\nQ 39.59375 6.203125 44.453125 7.46875 \r\nQ 49.3125 8.734375 54.109375 11.28125 \r\nL 54.109375 2.78125 \r\nQ 49.265625 0.734375 44.1875 -0.34375 \r\nQ 39.109375 -1.421875 33.890625 -1.421875 \r\nQ 20.796875 -1.421875 13.15625 6.1875 \r\nQ 5.515625 13.8125 5.515625 26.8125 \r\nQ 5.515625 40.234375 12.765625 48.109375 \r\nQ 20.015625 56 32.328125 56 \r\nQ 43.359375 56 49.78125 48.890625 \r\nQ 56.203125 41.796875 56.203125 29.59375 \r\nz\r\nM 47.21875 32.234375 \r\nQ 47.125 39.59375 43.09375 43.984375 \r\nQ 39.0625 48.390625 32.421875 48.390625 \r\nQ 24.90625 48.390625 20.390625 44.140625 \r\nQ 15.875 39.890625 15.1875 32.171875 \r\nz\r\n\" id=\"DejaVuSans-101\"/>\r\n      <path d=\"M 37.109375 75.984375 \r\nL 37.109375 68.5 \r\nL 28.515625 68.5 \r\nQ 23.6875 68.5 21.796875 66.546875 \r\nQ 19.921875 64.59375 19.921875 59.515625 \r\nL 19.921875 54.6875 \r\nL 34.71875 54.6875 \r\nL 34.71875 47.703125 \r\nL 19.921875 47.703125 \r\nL 19.921875 0 \r\nL 10.890625 0 \r\nL 10.890625 47.703125 \r\nL 2.296875 47.703125 \r\nL 2.296875 54.6875 \r\nL 10.890625 54.6875 \r\nL 10.890625 58.5 \r\nQ 10.890625 67.625 15.140625 71.796875 \r\nQ 19.390625 75.984375 28.609375 75.984375 \r\nz\r\n\" id=\"DejaVuSans-102\"/>\r\n      <path d=\"M 4.203125 54.6875 \r\nL 13.1875 54.6875 \r\nL 24.421875 12.015625 \r\nL 35.59375 54.6875 \r\nL 46.1875 54.6875 \r\nL 57.421875 12.015625 \r\nL 68.609375 54.6875 \r\nL 77.59375 54.6875 \r\nL 63.28125 0 \r\nL 52.6875 0 \r\nL 40.921875 44.828125 \r\nL 29.109375 0 \r\nL 18.5 0 \r\nz\r\n\" id=\"DejaVuSans-119\"/>\r\n      <path d=\"M 54.890625 33.015625 \r\nL 54.890625 0 \r\nL 45.90625 0 \r\nL 45.90625 32.71875 \r\nQ 45.90625 40.484375 42.875 44.328125 \r\nQ 39.84375 48.1875 33.796875 48.1875 \r\nQ 26.515625 48.1875 22.3125 43.546875 \r\nQ 18.109375 38.921875 18.109375 30.90625 \r\nL 18.109375 0 \r\nL 9.078125 0 \r\nL 9.078125 75.984375 \r\nL 18.109375 75.984375 \r\nL 18.109375 46.1875 \r\nQ 21.34375 51.125 25.703125 53.5625 \r\nQ 30.078125 56 35.796875 56 \r\nQ 45.21875 56 50.046875 50.171875 \r\nQ 54.890625 44.34375 54.890625 33.015625 \r\nz\r\n\" id=\"DejaVuSans-104\"/>\r\n     </defs>\r\n     <g transform=\"translate(285.5625 38.476562)scale(0.1 -0.1)\">\r\n      <use xlink:href=\"#DejaVuSans-108\"/>\r\n      <use x=\"27.783203\" xlink:href=\"#DejaVuSans-101\"/>\r\n      <use x=\"89.306641\" xlink:href=\"#DejaVuSans-102\"/>\r\n      <use x=\"122.761719\" xlink:href=\"#DejaVuSans-116\"/>\r\n      <use x=\"161.970703\" xlink:href=\"#DejaVuSans-32\"/>\r\n      <use x=\"193.757812\" xlink:href=\"#DejaVuSans-119\"/>\r\n      <use x=\"275.544922\" xlink:href=\"#DejaVuSans-104\"/>\r\n      <use x=\"338.923828\" xlink:href=\"#DejaVuSans-101\"/>\r\n      <use x=\"400.447266\" xlink:href=\"#DejaVuSans-101\"/>\r\n      <use x=\"461.970703\" xlink:href=\"#DejaVuSans-108\"/>\r\n     </g>\r\n    </g>\r\n    <g id=\"line2d_18\">\r\n     <path d=\"M 257.5625 49.654687 \r\nL 277.5625 49.654687 \r\n\" style=\"fill:none;stroke:#000000;stroke-dasharray:1.5,2.475;stroke-dashoffset:0;stroke-width:1.5;\"/>\r\n    </g>\r\n    <g id=\"line2d_19\"/>\r\n    <g id=\"text_13\">\r\n     <!-- right wheel -->\r\n     <defs>\r\n      <path d=\"M 45.40625 27.984375 \r\nQ 45.40625 37.75 41.375 43.109375 \r\nQ 37.359375 48.484375 30.078125 48.484375 \r\nQ 22.859375 48.484375 18.828125 43.109375 \r\nQ 14.796875 37.75 14.796875 27.984375 \r\nQ 14.796875 18.265625 18.828125 12.890625 \r\nQ 22.859375 7.515625 30.078125 7.515625 \r\nQ 37.359375 7.515625 41.375 12.890625 \r\nQ 45.40625 18.265625 45.40625 27.984375 \r\nz\r\nM 54.390625 6.78125 \r\nQ 54.390625 -7.171875 48.1875 -13.984375 \r\nQ 42 -20.796875 29.203125 -20.796875 \r\nQ 24.46875 -20.796875 20.265625 -20.09375 \r\nQ 16.0625 -19.390625 12.109375 -17.921875 \r\nL 12.109375 -9.1875 \r\nQ 16.0625 -11.328125 19.921875 -12.34375 \r\nQ 23.78125 -13.375 27.78125 -13.375 \r\nQ 36.625 -13.375 41.015625 -8.765625 \r\nQ 45.40625 -4.15625 45.40625 5.171875 \r\nL 45.40625 9.625 \r\nQ 42.625 4.78125 38.28125 2.390625 \r\nQ 33.9375 0 27.875 0 \r\nQ 17.828125 0 11.671875 7.65625 \r\nQ 5.515625 15.328125 5.515625 27.984375 \r\nQ 5.515625 40.671875 11.671875 48.328125 \r\nQ 17.828125 56 27.875 56 \r\nQ 33.9375 56 38.28125 53.609375 \r\nQ 42.625 51.21875 45.40625 46.390625 \r\nL 45.40625 54.6875 \r\nL 54.390625 54.6875 \r\nz\r\n\" id=\"DejaVuSans-103\"/>\r\n     </defs>\r\n     <g transform=\"translate(285.5625 53.154687)scale(0.1 -0.1)\">\r\n      <use xlink:href=\"#DejaVuSans-114\"/>\r\n      <use x=\"41.113281\" xlink:href=\"#DejaVuSans-105\"/>\r\n      <use x=\"68.896484\" xlink:href=\"#DejaVuSans-103\"/>\r\n      <use x=\"132.373047\" xlink:href=\"#DejaVuSans-104\"/>\r\n      <use x=\"195.751953\" xlink:href=\"#DejaVuSans-116\"/>\r\n      <use x=\"234.960938\" xlink:href=\"#DejaVuSans-32\"/>\r\n      <use x=\"266.748047\" xlink:href=\"#DejaVuSans-119\"/>\r\n      <use x=\"348.535156\" xlink:href=\"#DejaVuSans-104\"/>\r\n      <use x=\"411.914062\" xlink:href=\"#DejaVuSans-101\"/>\r\n      <use x=\"473.4375\" xlink:href=\"#DejaVuSans-101\"/>\r\n      <use x=\"534.960938\" xlink:href=\"#DejaVuSans-108\"/>\r\n     </g>\r\n    </g>\r\n   </g>\r\n  </g>\r\n </g>\r\n <defs>\r\n  <clipPath id=\"pbc78939f25\">\r\n   <rect height=\"217.44\" width=\"334.8\" x=\"28.942188\" y=\"7.2\"/>\r\n  </clipPath>\r\n </defs>\r\n</svg>\r\n",
      "image/png": "[encoded data removed]"
     },
     "metadata": {
      "needs_background": "light"
     }
    },
    {
     "output_type": "display_data",
     "data": {
      "text/plain": "<Figure size 432x288 with 0 Axes>"
     },
     "metadata": {}
    }
   ],
   "source": [
    "plt.figure()\n",
    "plt.xlim(-5,5)\n",
    "plt.ylim(-5,5)\n",
    "plt.plot(*zip(*pos), label = 'robot position', color = 'r')\n",
    "x_L,y_L = zip(*L_pos)\n",
    "plt.plot(x_L,y_L, label = 'left wheel', color = 'k', linestyle = 'dotted')\n",
    "x_R,y_R = zip(*R_pos)\n",
    "plt.plot(x_R,y_R, label = 'right wheel', color = 'k', linestyle = 'dotted')\n",
    "plt.legend()\n",
    "plt.show()\n",
    "plt.clf()"
   ]
  },
  {
   "cell_type": "code",
   "execution_count": 19,
   "metadata": {
    "tags": []
   },
   "outputs": [
    {
     "output_type": "stream",
     "name": "stdout",
     "text": "[(0.020879078877904002, -0.02541248433056316), (0.0998035569444482, 0.005804105205376217), (0.12656736093228108, -0.04878304042856666), (0.14057450295501453, 0.023856587791549536), (0.2815417749527174, 0.08018098303229208), (0.1653838110210838, -0.08342231425323866), (0.2560087371070361, -0.07734089460844483), (0.35692041662701146, 0.07064164590049334), (0.36458620376359097, 0.03338090685379113), (0.5084706179927567, -0.10584161086541582), (0.5125648889211815, -0.03199243438622999), (0.44514116591728603, -0.08649774519309467), (0.5396197141719149, 0.04055395258688798), (0.7318855337591887, -0.021122302011780697), (0.6006923259674941, 0.029092009811837058), (0.7995092240549564, -0.012915862526239177), (0.8466117301278581, 0.04342920742773138), (0.8793773991775058, -0.03316835415407616), (0.9667848704300976, 0.07713332005544027), (0.9447744554045144, -0.10680264801430071), (1.0312358981193699, 0.08869028576441094), (0.923018698274978, -0.03693549902603229), (1.0634188326167184, 0.002230128480800865), (1.2086285386093576, -0.016608212928148635), (1.2373962368038767, -0.03498346845177944), (1.215035863059072, -0.05245364454637907), (1.2896902826069276, -0.05671651364781273), (1.4096838302749792, -0.026591352028986066), (1.399994352948525, 0.015639191511746597), (1.3932392321849756, 0.01660365350428622), (1.487313561942025, 0.04544243467061761), (1.5898717570805796, -0.0023479496673237455), (1.5745137705494967, 0.014505834572990426), (1.6812383636084385, 0.06177070270301961), (1.611669933543824, -0.06361956471231642), (1.7153028060485676, 0.07445719678790758), (1.8854054876409216, 0.020732407708157485), (1.9463863816182023, 0.020016529694771277), (1.9073190361887256, -0.037867897637432535), (1.9885129140066422, -0.015878424814891965), (1.9676312007187111, -0.10075315456870158), (2.015828383446913, 0.022192123245030056), (2.0831219385589903, 0.011669362688286819), (2.1906994227689243, 0.014919659181509674), (2.2390120508867515, 0.027948352926068357), (2.2185179268609208, -0.0178777523063414), (2.3188211151783076, -0.05334342172227866), (2.3507853548977775, 0.03997991565118911), (2.397260063944493, -0.09505909239264163), (2.458768377144636, -0.030295624579917725), (2.528232666392707, -0.12824245168027615), (2.514942177975758, -0.02801573681762396), (2.624772856379855, -0.08932581050185373), (2.6399060227502944, 0.009389570638857057), (2.7056562078369617, 0.036977627066872146), (2.6705310835615244, 0.009956006048807664), (2.779369729365997, -0.07816642244232841), (2.8484964133351025, 0.021226331049650285), (2.8343570547174033, -0.07705514303103289), (2.946215748418946, -0.13997536250305426), (2.9821265411843303, -0.04143743471530045), (3.0551022720088628, 0.00459843182022569), (3.102029291292858, -0.08321507522576888), (3.106079770025286, -0.0531495020966455), (3.1667663681263174, 0.008820701174812281), (3.108059437495425, -0.006541237655103258), (3.2411803141683233, -0.007469745109010422), (3.3142015540285015, 0.043741459415536754), (3.386712056714878, 0.08977738902554462), (3.474769605368286, 0.04243339853426553), (3.4876300398025193, -0.09259606644712196), (3.5285624550343027, 0.06706685358341521), (3.615927105086995, 0.05574729674462682), (3.6714434881286104, 0.07427506989574285), (3.715241720424438, -0.1722158031644705), (3.8129048472091673, 0.023146526388967418), (3.8521447884627076, -0.015481684709137373), (3.8724737335056867, 0.04420649809693595), (3.9063689014794143, 0.04261171144719195), (3.9601455804544434, 0.12966062876726758), (3.9812179351243424, -0.0693695457187594), (4.0549614594850505, 0.013709573064844808), (4.057651323454812, 0.019827124610428654), (4.149468079044333, -0.05574992128124813), (4.212431536899601, 0.004951253683891841), (4.180363326320348, -0.0021959672947143697), (4.34914301007743, -0.03509959405275661), (4.407873973252779, 0.05230764805363397), (4.423123459593651, 0.011236086592363241), (4.49495413524553, -0.01595363450993036), (4.455741118032518, -0.036985649582510174), (4.575333687072512, -0.016984132256423454), (4.555536084456112, 0.09810690372415236), (4.665495792131896, 0.025590971897929513), (4.839859596893081, 0.08061387876506085), (4.7233266807361005, 0.016495777844989592), (4.832653695424325, -0.007211684096738365), (4.812017598514194, -0.024109644325500904), (4.886157733024602, 0.12904457485720625), (4.955422857172386, -0.11600754299151128), (4.998373370552701, 0.06193681124554245), (5.056870720467615, -0.046845924126355125)]\n"
    },
    {
     "output_type": "display_data",
     "data": {
      "text/plain": "<Figure size 432x288 with 1 Axes>",
      "image/svg+xml": "<?xml version=\"1.0\" encoding=\"utf-8\" standalone=\"no\"?>\r\n<!DOCTYPE svg PUBLIC \"-//W3C//DTD SVG 1.1//EN\"\r\n  \"http://www.w3.org/Graphics/SVG/1.1/DTD/svg11.dtd\">\r\n<!-- Created with matplotlib (https://matplotlib.org/) -->\r\n<svg height=\"248.518125pt\" version=\"1.1\" viewBox=\"0 0 370.942187 248.518125\" width=\"370.942187pt\" xmlns=\"http://www.w3.org/2000/svg\" xmlns:xlink=\"http://www.w3.org/1999/xlink\">\r\n <defs>\r\n  <style type=\"text/css\">\r\n*{stroke-linecap:butt;stroke-linejoin:round;}\r\n  </style>\r\n </defs>\r\n <g id=\"figure_1\">\r\n  <g id=\"patch_1\">\r\n   <path d=\"M 0 248.518125 \r\nL 370.942187 248.518125 \r\nL 370.942187 0 \r\nL 0 0 \r\nz\r\n\" style=\"fill:none;\"/>\r\n  </g>\r\n  <g id=\"axes_1\">\r\n   <g id=\"patch_2\">\r\n    <path d=\"M 28.942188 224.64 \r\nL 363.742188 224.64 \r\nL 363.742188 7.2 \r\nL 28.942188 7.2 \r\nz\r\n\" style=\"fill:#ffffff;\"/>\r\n   </g>\r\n   <g id=\"matplotlib.axis_1\">\r\n    <g id=\"xtick_1\">\r\n     <g id=\"line2d_1\">\r\n      <defs>\r\n       <path d=\"M 0 0 \r\nL 0 3.5 \r\n\" id=\"mfdd4dc6dcc\" style=\"stroke:#000000;stroke-width:0.8;\"/>\r\n      </defs>\r\n      <g>\r\n       <use style=\"stroke:#000000;stroke-width:0.8;\" x=\"62.422188\" xlink:href=\"#mfdd4dc6dcc\" y=\"224.64\"/>\r\n      </g>\r\n     </g>\r\n     <g id=\"text_1\">\r\n      <!-- −4 -->\r\n      <defs>\r\n       <path d=\"M 10.59375 35.5 \r\nL 73.1875 35.5 \r\nL 73.1875 27.203125 \r\nL 10.59375 27.203125 \r\nz\r\n\" id=\"DejaVuSans-8722\"/>\r\n       <path d=\"M 37.796875 64.3125 \r\nL 12.890625 25.390625 \r\nL 37.796875 25.390625 \r\nz\r\nM 35.203125 72.90625 \r\nL 47.609375 72.90625 \r\nL 47.609375 25.390625 \r\nL 58.015625 25.390625 \r\nL 58.015625 17.1875 \r\nL 47.609375 17.1875 \r\nL 47.609375 0 \r\nL 37.796875 0 \r\nL 37.796875 17.1875 \r\nL 4.890625 17.1875 \r\nL 4.890625 26.703125 \r\nz\r\n\" id=\"DejaVuSans-52\"/>\r\n      </defs>\r\n      <g transform=\"translate(55.051094 239.238437)scale(0.1 -0.1)\">\r\n       <use xlink:href=\"#DejaVuSans-8722\"/>\r\n       <use x=\"83.789062\" xlink:href=\"#DejaVuSans-52\"/>\r\n      </g>\r\n     </g>\r\n    </g>\r\n    <g id=\"xtick_2\">\r\n     <g id=\"line2d_2\">\r\n      <g>\r\n       <use style=\"stroke:#000000;stroke-width:0.8;\" x=\"129.382188\" xlink:href=\"#mfdd4dc6dcc\" y=\"224.64\"/>\r\n      </g>\r\n     </g>\r\n     <g id=\"text_2\">\r\n      <!-- −2 -->\r\n      <defs>\r\n       <path d=\"M 19.1875 8.296875 \r\nL 53.609375 8.296875 \r\nL 53.609375 0 \r\nL 7.328125 0 \r\nL 7.328125 8.296875 \r\nQ 12.9375 14.109375 22.625 23.890625 \r\nQ 32.328125 33.6875 34.8125 36.53125 \r\nQ 39.546875 41.84375 41.421875 45.53125 \r\nQ 43.3125 49.21875 43.3125 52.78125 \r\nQ 43.3125 58.59375 39.234375 62.25 \r\nQ 35.15625 65.921875 28.609375 65.921875 \r\nQ 23.96875 65.921875 18.8125 64.3125 \r\nQ 13.671875 62.703125 7.8125 59.421875 \r\nL 7.8125 69.390625 \r\nQ 13.765625 71.78125 18.9375 73 \r\nQ 24.125 74.21875 28.421875 74.21875 \r\nQ 39.75 74.21875 46.484375 68.546875 \r\nQ 53.21875 62.890625 53.21875 53.421875 \r\nQ 53.21875 48.921875 51.53125 44.890625 \r\nQ 49.859375 40.875 45.40625 35.40625 \r\nQ 44.1875 33.984375 37.640625 27.21875 \r\nQ 31.109375 20.453125 19.1875 8.296875 \r\nz\r\n\" id=\"DejaVuSans-50\"/>\r\n      </defs>\r\n      <g transform=\"translate(122.011094 239.238437)scale(0.1 -0.1)\">\r\n       <use xlink:href=\"#DejaVuSans-8722\"/>\r\n       <use x=\"83.789062\" xlink:href=\"#DejaVuSans-50\"/>\r\n      </g>\r\n     </g>\r\n    </g>\r\n    <g id=\"xtick_3\">\r\n     <g id=\"line2d_3\">\r\n      <g>\r\n       <use style=\"stroke:#000000;stroke-width:0.8;\" x=\"196.342188\" xlink:href=\"#mfdd4dc6dcc\" y=\"224.64\"/>\r\n      </g>\r\n     </g>\r\n     <g id=\"text_3\">\r\n      <!-- 0 -->\r\n      <defs>\r\n       <path d=\"M 31.78125 66.40625 \r\nQ 24.171875 66.40625 20.328125 58.90625 \r\nQ 16.5 51.421875 16.5 36.375 \r\nQ 16.5 21.390625 20.328125 13.890625 \r\nQ 24.171875 6.390625 31.78125 6.390625 \r\nQ 39.453125 6.390625 43.28125 13.890625 \r\nQ 47.125 21.390625 47.125 36.375 \r\nQ 47.125 51.421875 43.28125 58.90625 \r\nQ 39.453125 66.40625 31.78125 66.40625 \r\nz\r\nM 31.78125 74.21875 \r\nQ 44.046875 74.21875 50.515625 64.515625 \r\nQ 56.984375 54.828125 56.984375 36.375 \r\nQ 56.984375 17.96875 50.515625 8.265625 \r\nQ 44.046875 -1.421875 31.78125 -1.421875 \r\nQ 19.53125 -1.421875 13.0625 8.265625 \r\nQ 6.59375 17.96875 6.59375 36.375 \r\nQ 6.59375 54.828125 13.0625 64.515625 \r\nQ 19.53125 74.21875 31.78125 74.21875 \r\nz\r\n\" id=\"DejaVuSans-48\"/>\r\n      </defs>\r\n      <g transform=\"translate(193.160938 239.238437)scale(0.1 -0.1)\">\r\n       <use xlink:href=\"#DejaVuSans-48\"/>\r\n      </g>\r\n     </g>\r\n    </g>\r\n    <g id=\"xtick_4\">\r\n     <g id=\"line2d_4\">\r\n      <g>\r\n       <use style=\"stroke:#000000;stroke-width:0.8;\" x=\"263.302188\" xlink:href=\"#mfdd4dc6dcc\" y=\"224.64\"/>\r\n      </g>\r\n     </g>\r\n     <g id=\"text_4\">\r\n      <!-- 2 -->\r\n      <g transform=\"translate(260.120938 239.238437)scale(0.1 -0.1)\">\r\n       <use xlink:href=\"#DejaVuSans-50\"/>\r\n      </g>\r\n     </g>\r\n    </g>\r\n    <g id=\"xtick_5\">\r\n     <g id=\"line2d_5\">\r\n      <g>\r\n       <use style=\"stroke:#000000;stroke-width:0.8;\" x=\"330.262188\" xlink:href=\"#mfdd4dc6dcc\" y=\"224.64\"/>\r\n      </g>\r\n     </g>\r\n     <g id=\"text_5\">\r\n      <!-- 4 -->\r\n      <g transform=\"translate(327.080938 239.238437)scale(0.1 -0.1)\">\r\n       <use xlink:href=\"#DejaVuSans-52\"/>\r\n      </g>\r\n     </g>\r\n    </g>\r\n   </g>\r\n   <g id=\"matplotlib.axis_2\">\r\n    <g id=\"ytick_1\">\r\n     <g id=\"line2d_6\">\r\n      <defs>\r\n       <path d=\"M 0 0 \r\nL -3.5 0 \r\n\" id=\"m937195351a\" style=\"stroke:#000000;stroke-width:0.8;\"/>\r\n      </defs>\r\n      <g>\r\n       <use style=\"stroke:#000000;stroke-width:0.8;\" x=\"28.942188\" xlink:href=\"#m937195351a\" y=\"202.896\"/>\r\n      </g>\r\n     </g>\r\n     <g id=\"text_6\">\r\n      <!-- −4 -->\r\n      <g transform=\"translate(7.2 206.695219)scale(0.1 -0.1)\">\r\n       <use xlink:href=\"#DejaVuSans-8722\"/>\r\n       <use x=\"83.789062\" xlink:href=\"#DejaVuSans-52\"/>\r\n      </g>\r\n     </g>\r\n    </g>\r\n    <g id=\"ytick_2\">\r\n     <g id=\"line2d_7\">\r\n      <g>\r\n       <use style=\"stroke:#000000;stroke-width:0.8;\" x=\"28.942188\" xlink:href=\"#m937195351a\" y=\"159.408\"/>\r\n      </g>\r\n     </g>\r\n     <g id=\"text_7\">\r\n      <!-- −2 -->\r\n      <g transform=\"translate(7.2 163.207219)scale(0.1 -0.1)\">\r\n       <use xlink:href=\"#DejaVuSans-8722\"/>\r\n       <use x=\"83.789062\" xlink:href=\"#DejaVuSans-50\"/>\r\n      </g>\r\n     </g>\r\n    </g>\r\n    <g id=\"ytick_3\">\r\n     <g id=\"line2d_8\">\r\n      <g>\r\n       <use style=\"stroke:#000000;stroke-width:0.8;\" x=\"28.942188\" xlink:href=\"#m937195351a\" y=\"115.92\"/>\r\n      </g>\r\n     </g>\r\n     <g id=\"text_8\">\r\n      <!-- 0 -->\r\n      <g transform=\"translate(15.579688 119.719219)scale(0.1 -0.1)\">\r\n       <use xlink:href=\"#DejaVuSans-48\"/>\r\n      </g>\r\n     </g>\r\n    </g>\r\n    <g id=\"ytick_4\">\r\n     <g id=\"line2d_9\">\r\n      <g>\r\n       <use style=\"stroke:#000000;stroke-width:0.8;\" x=\"28.942188\" xlink:href=\"#m937195351a\" y=\"72.432\"/>\r\n      </g>\r\n     </g>\r\n     <g id=\"text_9\">\r\n      <!-- 2 -->\r\n      <g transform=\"translate(15.579688 76.231219)scale(0.1 -0.1)\">\r\n       <use xlink:href=\"#DejaVuSans-50\"/>\r\n      </g>\r\n     </g>\r\n    </g>\r\n    <g id=\"ytick_5\">\r\n     <g id=\"line2d_10\">\r\n      <g>\r\n       <use style=\"stroke:#000000;stroke-width:0.8;\" x=\"28.942188\" xlink:href=\"#m937195351a\" y=\"28.944\"/>\r\n      </g>\r\n     </g>\r\n     <g id=\"text_10\">\r\n      <!-- 4 -->\r\n      <g transform=\"translate(15.579688 32.743219)scale(0.1 -0.1)\">\r\n       <use xlink:href=\"#DejaVuSans-52\"/>\r\n      </g>\r\n     </g>\r\n    </g>\r\n   </g>\r\n   <g id=\"line2d_11\">\r\n    <path clip-path=\"url(#p2cfa82dbbd)\" d=\"M 197.041219 116.472569 \r\nL 199.683611 115.793796 \r\nL 200.579663 116.980738 \r\nL 201.048622 115.401262 \r\nL 205.768206 114.176545 \r\nL 201.879237 117.733935 \r\nL 204.91336 117.6017 \r\nL 208.291883 114.383968 \r\nL 208.548534 115.194166 \r\nL 213.365784 118.22142 \r\nL 213.50286 116.615643 \r\nL 211.245514 117.800807 \r\nL 214.408656 115.038195 \r\nL 220.845715 116.379283 \r\nL 216.453367 115.287423 \r\nL 223.109756 116.200843 \r\nL 224.686748 114.975675 \r\nL 225.783743 116.641213 \r\nL 228.710145 114.242813 \r\nL 227.973236 118.242317 \r\nL 230.867965 113.991518 \r\nL 227.244854 116.723125 \r\nL 231.94545 115.871508 \r\nL 236.807071 116.281129 \r\nL 237.770214 116.680681 \r\nL 237.021588 117.060552 \r\nL 239.521018 117.153244 \r\nL 243.538402 116.498202 \r\nL 243.213998 115.579941 \r\nL 242.987837 115.55897 \r\nL 246.137446 114.9319 \r\nL 249.571094 115.971054 \r\nL 249.056909 115.604585 \r\nL 252.630048 114.576858 \r\nL 250.300897 117.303344 \r\nL 253.770525 114.301003 \r\nL 259.465563 115.469195 \r\nL 261.507204 115.484761 \r\nL 260.199229 116.7434 \r\nL 262.9176 116.26526 \r\nL 262.21848 118.110777 \r\nL 263.832122 115.437454 \r\nL 266.08511 115.666261 \r\nL 269.686804 115.595587 \r\nL 271.304311 115.312291 \r\nL 270.618168 116.308734 \r\nL 273.976318 117.079899 \r\nL 275.046481 115.050677 \r\nL 276.602454 117.986965 \r\nL 278.661753 116.578748 \r\nL 280.987417 118.708504 \r\nL 280.542452 116.529174 \r\nL 284.219583 117.8623 \r\nL 284.726241 115.715833 \r\nL 286.927557 115.115958 \r\nL 285.751568 115.703517 \r\nL 289.395486 117.619651 \r\nL 291.709847 115.458455 \r\nL 291.236462 117.595487 \r\nL 294.981491 118.963624 \r\nL 296.183784 116.821016 \r\nL 298.627012 115.820012 \r\nL 300.198128 117.729429 \r\nL 300.333738 117.075683 \r\nL 302.365526 115.728203 \r\nL 300.400017 116.062233 \r\nL 304.856904 116.082422 \r\nL 307.301656 114.968886 \r\nL 309.729307 113.96788 \r\nL 312.677474 114.997328 \r\nL 313.108041 117.933409 \r\nL 314.478458 114.461698 \r\nL 317.403427 114.707831 \r\nL 319.262115 114.304963 \r\nL 320.72848 119.66466 \r\nL 323.998242 115.416702 \r\nL 325.311995 116.256634 \r\nL 325.992608 114.958774 \r\nL 327.127418 114.993451 \r\nL 328.927862 113.100659 \r\nL 329.633364 117.428371 \r\nL 332.102297 115.621899 \r\nL 332.192354 115.488879 \r\nL 335.266379 117.132226 \r\nL 337.374395 115.81234 \r\nL 336.300752 115.967749 \r\nL 341.951495 116.683206 \r\nL 343.917808 114.782623 \r\nL 344.428361 115.675683 \r\nL 346.833252 116.266896 \r\nL 345.5204 116.724216 \r\nL 349.524359 116.289303 \r\nL 348.861536 113.786763 \r\nL 352.542987 115.36355 \r\nL 358.380687 114.167132 \r\nL 354.479165 115.561316 \r\nL 358.139433 116.076811 \r\nL 357.448537 116.44424 \r\nL 359.930748 113.114055 \r\nL 362.249745 118.442468 \r\nL 363.687728 114.573246 \r\nL 365.646219 116.938618 \r\n\" style=\"fill:none;stroke:#1f77b4;stroke-linecap:square;stroke-width:1.5;\"/>\r\n   </g>\r\n   <g id=\"patch_3\">\r\n    <path d=\"M 28.942188 224.64 \r\nL 28.942188 7.2 \r\n\" style=\"fill:none;stroke:#000000;stroke-linecap:square;stroke-linejoin:miter;stroke-width:0.8;\"/>\r\n   </g>\r\n   <g id=\"patch_4\">\r\n    <path d=\"M 363.742188 224.64 \r\nL 363.742188 7.2 \r\n\" style=\"fill:none;stroke:#000000;stroke-linecap:square;stroke-linejoin:miter;stroke-width:0.8;\"/>\r\n   </g>\r\n   <g id=\"patch_5\">\r\n    <path d=\"M 28.942187 224.64 \r\nL 363.742188 224.64 \r\n\" style=\"fill:none;stroke:#000000;stroke-linecap:square;stroke-linejoin:miter;stroke-width:0.8;\"/>\r\n   </g>\r\n   <g id=\"patch_6\">\r\n    <path d=\"M 28.942187 7.2 \r\nL 363.742188 7.2 \r\n\" style=\"fill:none;stroke:#000000;stroke-linecap:square;stroke-linejoin:miter;stroke-width:0.8;\"/>\r\n   </g>\r\n  </g>\r\n </g>\r\n <defs>\r\n  <clipPath id=\"p2cfa82dbbd\">\r\n   <rect height=\"217.44\" width=\"334.8\" x=\"28.942188\" y=\"7.2\"/>\r\n  </clipPath>\r\n </defs>\r\n</svg>\r\n",
      "image/png": "[encoded data removed]"
     },
     "metadata": {
      "needs_background": "light"
     }
    },
    {
     "output_type": "display_data",
     "data": {
      "text/plain": "<Figure size 432x288 with 0 Axes>"
     },
     "metadata": {}
    }
   ],
   "source": [
    "plt.figure()\n",
    "plt.xlim(-5,5)\n",
    "plt.ylim(-5,5)\n",
    "noisy = create_noise(pos, 0.05)\n",
    "print(noisy)\n",
    "x,y = zip(*noisy)\n",
    "plt.plot(x,y)\n",
    "plt.show()\n",
    "plt.clf()"
   ]
  }
 ],
 "metadata": {
  "kernelspec": {
   "display_name": "Python 3",
   "language": "python",
   "name": "python3"
  },
  "language_info": {
   "codemirror_mode": {
    "name": "ipython",
    "version": 3
   },
   "file_extension": ".py",
   "mimetype": "text/x-python",
   "name": "python",
   "nbconvert_exporter": "python",
   "pygments_lexer": "ipython3",
   "version": "3.8.3-final"
  }
 },
 "nbformat": 4,
 "nbformat_minor": 4
}