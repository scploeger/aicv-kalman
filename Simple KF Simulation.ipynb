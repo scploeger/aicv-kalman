{
 "cells": [
  {
   "cell_type": "code",
   "execution_count": null,
   "metadata": {},
   "outputs": [],
   "source": [
    "import numpy as np\n",
    "import matplotlib.pyplot as plt"
   ]
  },
  {
   "cell_type": "code",
   "execution_count": null,
   "metadata": {},
   "outputs": [],
   "source": [
    "iterations = 100\n",
    "\n",
    "#true value\n",
    "x = -2\n",
    "\n",
    "#create random noise for each \"sample\" with std. dev. of 0.2\n",
    "noise = np.random.normal(0, 0.2, size=iterations)\n",
    "\n",
    "A = -1 #negative so error converges\n",
    "H = 1 #=1 because the state IS the measurement\n",
    "\n",
    "Q = 0.0005\n",
    "R = 0.04 #assume a low measurement variance"
   ]
  },
  {
   "cell_type": "code",
   "execution_count": null,
   "metadata": {},
   "outputs": [],
   "source": [
    "#empty lists\n",
    "x_hat = [0] * iterations\n",
    "x_hat_minus = [0] * iterations\n",
    "P = [0] * iterations\n",
    "P_minus = [0] * iterations\n",
    "K = [0] * iterations\n",
    "z = [0] * iterations"
   ]
  },
  {
   "cell_type": "code",
   "execution_count": null,
   "metadata": {},
   "outputs": [],
   "source": [
    "#for first iteration assume all previous measurements are zero\n",
    "k = 0 #first iteration\n",
    "z[0] = x + noise[k] #measurement for this step is \n",
    "\n",
    "#time update\n",
    "x_hat_minus[k] = 0\n",
    "P_minus[k] = 0 + Q\n",
    "\n",
    "#measurement update\n",
    "K[k] = P_minus[k]/(P_minus[k] + R)\n",
    "x_hat[k] = x_hat_minus[k] + K[k] * (z[0] - x_hat_minus[k])\n",
    "P[k] = (1 - K[k]) * P_minus[k]"
   ]
  },
  {
   "cell_type": "code",
   "execution_count": null,
   "metadata": {},
   "outputs": [],
   "source": [
    "#for the rest of the iterations, loop\n",
    "for k in range(1, iterations):\n",
    "    z[k] = x + noise[k] #measurement for this step is \n",
    "\n",
    "    #time update\n",
    "    x_hat_minus[k] = x_hat[k-1]\n",
    "    P_minus[k] = P[k-1] + Q\n",
    "\n",
    "    #measurement update\n",
    "    K[k] = P_minus[k]/(P_minus[k] + R)\n",
    "    x_hat[k] = x_hat_minus[k] + K[k] * (z[k] - x_hat_minus[k])\n",
    "    P[k] = (1 - K[k]) * P_minus[k]"
   ]
  },
  {
   "cell_type": "code",
   "execution_count": null,
   "metadata": {},
   "outputs": [],
   "source": [
    "plt.figure()\n",
    "plt.plot(x_hat, label = 'estimate', color = 'r')\n",
    "plt.plot(z, label = 'measurement', color = 'k')\n",
    "plt.axhline(y=x, label = 'ground truth')\n",
    "plt.legend()\n",
    "plt.show()"
   ]
  }
 ],
 "metadata": {
  "kernelspec": {
   "display_name": "Python 3",
   "language": "python",
   "name": "python3"
  },
  "language_info": {
   "codemirror_mode": {
    "name": "ipython",
    "version": 3
   },
   "file_extension": ".py",
   "mimetype": "text/x-python",
   "name": "python",
   "nbconvert_exporter": "python",
   "pygments_lexer": "ipython3",
   "version": "3.8.3-final"
  }
 },
 "nbformat": 4,
 "nbformat_minor": 4
}